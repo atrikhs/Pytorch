{
  "nbformat": 4,
  "nbformat_minor": 0,
  "metadata": {
    "colab": {
      "provenance": [],
      "gpuType": "T4",
      "authorship_tag": "ABX9TyMweHn8XX3CS1vc48pSgX9X",
      "include_colab_link": true
    },
    "kernelspec": {
      "name": "python3",
      "display_name": "Python 3"
    },
    "language_info": {
      "name": "python"
    },
    "accelerator": "GPU"
  },
  "cells": [
    {
      "cell_type": "markdown",
      "metadata": {
        "id": "view-in-github",
        "colab_type": "text"
      },
      "source": [
        "<a href=\"https://colab.research.google.com/github/atrikhs/Pytorch/blob/main/Pytorch_multiRegrn1.ipynb\" target=\"_parent\"><img src=\"https://colab.research.google.com/assets/colab-badge.svg\" alt=\"Open In Colab\"/></a>"
      ]
    },
    {
      "cell_type": "code",
      "execution_count": null,
      "metadata": {
        "id": "ZKS1NiP0Izz_"
      },
      "outputs": [],
      "source": [
        "import torch\n",
        "import numpy as np\n",
        "import matplotlib.pyplot as plt\n",
        "from torch import nn\n",
        "from sklearn.model_selection import train_test_split\n",
        "import pandas as pd"
      ]
    },
    {
      "cell_type": "code",
      "source": [
        "class LinearRegV3(nn.Module):\n",
        "  def __init__(self):\n",
        "    super().__init__()\n",
        "    self.linear_layer1 = nn.Linear(in_features = 3, out_features=1)\n",
        "\n",
        "  def forward(self, x:torch.Tensor) -> torch.Tensor:\n",
        "    return self.linear_layer1(x)"
      ],
      "metadata": {
        "id": "YdFFp4TcJRrT"
      },
      "execution_count": null,
      "outputs": []
    },
    {
      "cell_type": "code",
      "source": [
        "torch.manual_seed(42)\n",
        "model1 = LinearRegV3()\n",
        "model1"
      ],
      "metadata": {
        "colab": {
          "base_uri": "https://localhost:8080/"
        },
        "id": "mwd6ARnsJuaI",
        "outputId": "768442c7-7ad4-4b2b-fc07-6862e16fe184"
      },
      "execution_count": null,
      "outputs": [
        {
          "output_type": "execute_result",
          "data": {
            "text/plain": [
              "LinearRegV3(\n",
              "  (linear_layer1): Linear(in_features=3, out_features=1, bias=True)\n",
              ")"
            ]
          },
          "metadata": {},
          "execution_count": 38
        }
      ]
    },
    {
      "cell_type": "code",
      "source": [
        "model1.state_dict()"
      ],
      "metadata": {
        "colab": {
          "base_uri": "https://localhost:8080/"
        },
        "id": "YiwMzdmSKK7O",
        "outputId": "58a1bda1-6cee-4b6d-e746-93ac61881389"
      },
      "execution_count": null,
      "outputs": [
        {
          "output_type": "execute_result",
          "data": {
            "text/plain": [
              "OrderedDict([('linear_layer1.weight', tensor([[ 0.4414,  0.4792, -0.1353]])),\n",
              "             ('linear_layer1.bias', tensor([0.5304]))])"
            ]
          },
          "metadata": {},
          "execution_count": 39
        }
      ]
    },
    {
      "cell_type": "code",
      "source": [
        "X1 = np.arange(1, 21, step = 0.02)"
      ],
      "metadata": {
        "id": "ouhWR3vEKQid"
      },
      "execution_count": null,
      "outputs": []
    },
    {
      "cell_type": "code",
      "source": [
        "print(len(X1))"
      ],
      "metadata": {
        "colab": {
          "base_uri": "https://localhost:8080/"
        },
        "id": "9Sa08pLEKnhx",
        "outputId": "b84dc77d-7ef9-48c6-e970-4ed412e7d2b1"
      },
      "execution_count": null,
      "outputs": [
        {
          "output_type": "stream",
          "name": "stdout",
          "text": [
            "1000\n"
          ]
        }
      ]
    },
    {
      "cell_type": "code",
      "source": [
        "X2 = np.arange(21, 41, step = 0.02)"
      ],
      "metadata": {
        "id": "4QuXZDXBLSHy"
      },
      "execution_count": null,
      "outputs": []
    },
    {
      "cell_type": "code",
      "source": [
        "print(len(X2))"
      ],
      "metadata": {
        "colab": {
          "base_uri": "https://localhost:8080/"
        },
        "id": "xz8nMNPtLaXd",
        "outputId": "c7f0550a-8e32-445d-b1cd-19130e663b69"
      },
      "execution_count": null,
      "outputs": [
        {
          "output_type": "stream",
          "name": "stdout",
          "text": [
            "1000\n"
          ]
        }
      ]
    },
    {
      "cell_type": "code",
      "source": [
        "X3 = np.arange(41, 61, step = 0.02)"
      ],
      "metadata": {
        "id": "1Z21X9pDLeL8"
      },
      "execution_count": null,
      "outputs": []
    },
    {
      "cell_type": "code",
      "source": [
        "print(len(X3))"
      ],
      "metadata": {
        "colab": {
          "base_uri": "https://localhost:8080/"
        },
        "id": "Yts3rX3NLeOB",
        "outputId": "771a342b-014b-499c-d6aa-65c1d8060075"
      },
      "execution_count": null,
      "outputs": [
        {
          "output_type": "stream",
          "name": "stdout",
          "text": [
            "1000\n"
          ]
        }
      ]
    },
    {
      "cell_type": "code",
      "source": [],
      "metadata": {
        "id": "CCqltt-GLeQG"
      },
      "execution_count": null,
      "outputs": []
    },
    {
      "cell_type": "code",
      "source": [
        "w1 = 3\n",
        "w2 = 5\n",
        "w3 = 14\n",
        "b = 52\n",
        "\n",
        "y = w1*X1 + w2*X2 + w3*X3 + b\n",
        "y\n"
      ],
      "metadata": {
        "colab": {
          "base_uri": "https://localhost:8080/"
        },
        "id": "cp3mBVyoKo1Y",
        "outputId": "4b197f0d-d888-4efe-d7a9-62a8fdb0475b"
      },
      "execution_count": null,
      "outputs": [
        {
          "output_type": "execute_result",
          "data": {
            "text/plain": [
              "array([ 734.  ,  734.44,  734.88,  735.32,  735.76,  736.2 ,  736.64,\n",
              "        737.08,  737.52,  737.96,  738.4 ,  738.84,  739.28,  739.72,\n",
              "        740.16,  740.6 ,  741.04,  741.48,  741.92,  742.36,  742.8 ,\n",
              "        743.24,  743.68,  744.12,  744.56,  745.  ,  745.44,  745.88,\n",
              "        746.32,  746.76,  747.2 ,  747.64,  748.08,  748.52,  748.96,\n",
              "        749.4 ,  749.84,  750.28,  750.72,  751.16,  751.6 ,  752.04,\n",
              "        752.48,  752.92,  753.36,  753.8 ,  754.24,  754.68,  755.12,\n",
              "        755.56,  756.  ,  756.44,  756.88,  757.32,  757.76,  758.2 ,\n",
              "        758.64,  759.08,  759.52,  759.96,  760.4 ,  760.84,  761.28,\n",
              "        761.72,  762.16,  762.6 ,  763.04,  763.48,  763.92,  764.36,\n",
              "        764.8 ,  765.24,  765.68,  766.12,  766.56,  767.  ,  767.44,\n",
              "        767.88,  768.32,  768.76,  769.2 ,  769.64,  770.08,  770.52,\n",
              "        770.96,  771.4 ,  771.84,  772.28,  772.72,  773.16,  773.6 ,\n",
              "        774.04,  774.48,  774.92,  775.36,  775.8 ,  776.24,  776.68,\n",
              "        777.12,  777.56,  778.  ,  778.44,  778.88,  779.32,  779.76,\n",
              "        780.2 ,  780.64,  781.08,  781.52,  781.96,  782.4 ,  782.84,\n",
              "        783.28,  783.72,  784.16,  784.6 ,  785.04,  785.48,  785.92,\n",
              "        786.36,  786.8 ,  787.24,  787.68,  788.12,  788.56,  789.  ,\n",
              "        789.44,  789.88,  790.32,  790.76,  791.2 ,  791.64,  792.08,\n",
              "        792.52,  792.96,  793.4 ,  793.84,  794.28,  794.72,  795.16,\n",
              "        795.6 ,  796.04,  796.48,  796.92,  797.36,  797.8 ,  798.24,\n",
              "        798.68,  799.12,  799.56,  800.  ,  800.44,  800.88,  801.32,\n",
              "        801.76,  802.2 ,  802.64,  803.08,  803.52,  803.96,  804.4 ,\n",
              "        804.84,  805.28,  805.72,  806.16,  806.6 ,  807.04,  807.48,\n",
              "        807.92,  808.36,  808.8 ,  809.24,  809.68,  810.12,  810.56,\n",
              "        811.  ,  811.44,  811.88,  812.32,  812.76,  813.2 ,  813.64,\n",
              "        814.08,  814.52,  814.96,  815.4 ,  815.84,  816.28,  816.72,\n",
              "        817.16,  817.6 ,  818.04,  818.48,  818.92,  819.36,  819.8 ,\n",
              "        820.24,  820.68,  821.12,  821.56,  822.  ,  822.44,  822.88,\n",
              "        823.32,  823.76,  824.2 ,  824.64,  825.08,  825.52,  825.96,\n",
              "        826.4 ,  826.84,  827.28,  827.72,  828.16,  828.6 ,  829.04,\n",
              "        829.48,  829.92,  830.36,  830.8 ,  831.24,  831.68,  832.12,\n",
              "        832.56,  833.  ,  833.44,  833.88,  834.32,  834.76,  835.2 ,\n",
              "        835.64,  836.08,  836.52,  836.96,  837.4 ,  837.84,  838.28,\n",
              "        838.72,  839.16,  839.6 ,  840.04,  840.48,  840.92,  841.36,\n",
              "        841.8 ,  842.24,  842.68,  843.12,  843.56,  844.  ,  844.44,\n",
              "        844.88,  845.32,  845.76,  846.2 ,  846.64,  847.08,  847.52,\n",
              "        847.96,  848.4 ,  848.84,  849.28,  849.72,  850.16,  850.6 ,\n",
              "        851.04,  851.48,  851.92,  852.36,  852.8 ,  853.24,  853.68,\n",
              "        854.12,  854.56,  855.  ,  855.44,  855.88,  856.32,  856.76,\n",
              "        857.2 ,  857.64,  858.08,  858.52,  858.96,  859.4 ,  859.84,\n",
              "        860.28,  860.72,  861.16,  861.6 ,  862.04,  862.48,  862.92,\n",
              "        863.36,  863.8 ,  864.24,  864.68,  865.12,  865.56,  866.  ,\n",
              "        866.44,  866.88,  867.32,  867.76,  868.2 ,  868.64,  869.08,\n",
              "        869.52,  869.96,  870.4 ,  870.84,  871.28,  871.72,  872.16,\n",
              "        872.6 ,  873.04,  873.48,  873.92,  874.36,  874.8 ,  875.24,\n",
              "        875.68,  876.12,  876.56,  877.  ,  877.44,  877.88,  878.32,\n",
              "        878.76,  879.2 ,  879.64,  880.08,  880.52,  880.96,  881.4 ,\n",
              "        881.84,  882.28,  882.72,  883.16,  883.6 ,  884.04,  884.48,\n",
              "        884.92,  885.36,  885.8 ,  886.24,  886.68,  887.12,  887.56,\n",
              "        888.  ,  888.44,  888.88,  889.32,  889.76,  890.2 ,  890.64,\n",
              "        891.08,  891.52,  891.96,  892.4 ,  892.84,  893.28,  893.72,\n",
              "        894.16,  894.6 ,  895.04,  895.48,  895.92,  896.36,  896.8 ,\n",
              "        897.24,  897.68,  898.12,  898.56,  899.  ,  899.44,  899.88,\n",
              "        900.32,  900.76,  901.2 ,  901.64,  902.08,  902.52,  902.96,\n",
              "        903.4 ,  903.84,  904.28,  904.72,  905.16,  905.6 ,  906.04,\n",
              "        906.48,  906.92,  907.36,  907.8 ,  908.24,  908.68,  909.12,\n",
              "        909.56,  910.  ,  910.44,  910.88,  911.32,  911.76,  912.2 ,\n",
              "        912.64,  913.08,  913.52,  913.96,  914.4 ,  914.84,  915.28,\n",
              "        915.72,  916.16,  916.6 ,  917.04,  917.48,  917.92,  918.36,\n",
              "        918.8 ,  919.24,  919.68,  920.12,  920.56,  921.  ,  921.44,\n",
              "        921.88,  922.32,  922.76,  923.2 ,  923.64,  924.08,  924.52,\n",
              "        924.96,  925.4 ,  925.84,  926.28,  926.72,  927.16,  927.6 ,\n",
              "        928.04,  928.48,  928.92,  929.36,  929.8 ,  930.24,  930.68,\n",
              "        931.12,  931.56,  932.  ,  932.44,  932.88,  933.32,  933.76,\n",
              "        934.2 ,  934.64,  935.08,  935.52,  935.96,  936.4 ,  936.84,\n",
              "        937.28,  937.72,  938.16,  938.6 ,  939.04,  939.48,  939.92,\n",
              "        940.36,  940.8 ,  941.24,  941.68,  942.12,  942.56,  943.  ,\n",
              "        943.44,  943.88,  944.32,  944.76,  945.2 ,  945.64,  946.08,\n",
              "        946.52,  946.96,  947.4 ,  947.84,  948.28,  948.72,  949.16,\n",
              "        949.6 ,  950.04,  950.48,  950.92,  951.36,  951.8 ,  952.24,\n",
              "        952.68,  953.12,  953.56,  954.  ,  954.44,  954.88,  955.32,\n",
              "        955.76,  956.2 ,  956.64,  957.08,  957.52,  957.96,  958.4 ,\n",
              "        958.84,  959.28,  959.72,  960.16,  960.6 ,  961.04,  961.48,\n",
              "        961.92,  962.36,  962.8 ,  963.24,  963.68,  964.12,  964.56,\n",
              "        965.  ,  965.44,  965.88,  966.32,  966.76,  967.2 ,  967.64,\n",
              "        968.08,  968.52,  968.96,  969.4 ,  969.84,  970.28,  970.72,\n",
              "        971.16,  971.6 ,  972.04,  972.48,  972.92,  973.36,  973.8 ,\n",
              "        974.24,  974.68,  975.12,  975.56,  976.  ,  976.44,  976.88,\n",
              "        977.32,  977.76,  978.2 ,  978.64,  979.08,  979.52,  979.96,\n",
              "        980.4 ,  980.84,  981.28,  981.72,  982.16,  982.6 ,  983.04,\n",
              "        983.48,  983.92,  984.36,  984.8 ,  985.24,  985.68,  986.12,\n",
              "        986.56,  987.  ,  987.44,  987.88,  988.32,  988.76,  989.2 ,\n",
              "        989.64,  990.08,  990.52,  990.96,  991.4 ,  991.84,  992.28,\n",
              "        992.72,  993.16,  993.6 ,  994.04,  994.48,  994.92,  995.36,\n",
              "        995.8 ,  996.24,  996.68,  997.12,  997.56,  998.  ,  998.44,\n",
              "        998.88,  999.32,  999.76, 1000.2 , 1000.64, 1001.08, 1001.52,\n",
              "       1001.96, 1002.4 , 1002.84, 1003.28, 1003.72, 1004.16, 1004.6 ,\n",
              "       1005.04, 1005.48, 1005.92, 1006.36, 1006.8 , 1007.24, 1007.68,\n",
              "       1008.12, 1008.56, 1009.  , 1009.44, 1009.88, 1010.32, 1010.76,\n",
              "       1011.2 , 1011.64, 1012.08, 1012.52, 1012.96, 1013.4 , 1013.84,\n",
              "       1014.28, 1014.72, 1015.16, 1015.6 , 1016.04, 1016.48, 1016.92,\n",
              "       1017.36, 1017.8 , 1018.24, 1018.68, 1019.12, 1019.56, 1020.  ,\n",
              "       1020.44, 1020.88, 1021.32, 1021.76, 1022.2 , 1022.64, 1023.08,\n",
              "       1023.52, 1023.96, 1024.4 , 1024.84, 1025.28, 1025.72, 1026.16,\n",
              "       1026.6 , 1027.04, 1027.48, 1027.92, 1028.36, 1028.8 , 1029.24,\n",
              "       1029.68, 1030.12, 1030.56, 1031.  , 1031.44, 1031.88, 1032.32,\n",
              "       1032.76, 1033.2 , 1033.64, 1034.08, 1034.52, 1034.96, 1035.4 ,\n",
              "       1035.84, 1036.28, 1036.72, 1037.16, 1037.6 , 1038.04, 1038.48,\n",
              "       1038.92, 1039.36, 1039.8 , 1040.24, 1040.68, 1041.12, 1041.56,\n",
              "       1042.  , 1042.44, 1042.88, 1043.32, 1043.76, 1044.2 , 1044.64,\n",
              "       1045.08, 1045.52, 1045.96, 1046.4 , 1046.84, 1047.28, 1047.72,\n",
              "       1048.16, 1048.6 , 1049.04, 1049.48, 1049.92, 1050.36, 1050.8 ,\n",
              "       1051.24, 1051.68, 1052.12, 1052.56, 1053.  , 1053.44, 1053.88,\n",
              "       1054.32, 1054.76, 1055.2 , 1055.64, 1056.08, 1056.52, 1056.96,\n",
              "       1057.4 , 1057.84, 1058.28, 1058.72, 1059.16, 1059.6 , 1060.04,\n",
              "       1060.48, 1060.92, 1061.36, 1061.8 , 1062.24, 1062.68, 1063.12,\n",
              "       1063.56, 1064.  , 1064.44, 1064.88, 1065.32, 1065.76, 1066.2 ,\n",
              "       1066.64, 1067.08, 1067.52, 1067.96, 1068.4 , 1068.84, 1069.28,\n",
              "       1069.72, 1070.16, 1070.6 , 1071.04, 1071.48, 1071.92, 1072.36,\n",
              "       1072.8 , 1073.24, 1073.68, 1074.12, 1074.56, 1075.  , 1075.44,\n",
              "       1075.88, 1076.32, 1076.76, 1077.2 , 1077.64, 1078.08, 1078.52,\n",
              "       1078.96, 1079.4 , 1079.84, 1080.28, 1080.72, 1081.16, 1081.6 ,\n",
              "       1082.04, 1082.48, 1082.92, 1083.36, 1083.8 , 1084.24, 1084.68,\n",
              "       1085.12, 1085.56, 1086.  , 1086.44, 1086.88, 1087.32, 1087.76,\n",
              "       1088.2 , 1088.64, 1089.08, 1089.52, 1089.96, 1090.4 , 1090.84,\n",
              "       1091.28, 1091.72, 1092.16, 1092.6 , 1093.04, 1093.48, 1093.92,\n",
              "       1094.36, 1094.8 , 1095.24, 1095.68, 1096.12, 1096.56, 1097.  ,\n",
              "       1097.44, 1097.88, 1098.32, 1098.76, 1099.2 , 1099.64, 1100.08,\n",
              "       1100.52, 1100.96, 1101.4 , 1101.84, 1102.28, 1102.72, 1103.16,\n",
              "       1103.6 , 1104.04, 1104.48, 1104.92, 1105.36, 1105.8 , 1106.24,\n",
              "       1106.68, 1107.12, 1107.56, 1108.  , 1108.44, 1108.88, 1109.32,\n",
              "       1109.76, 1110.2 , 1110.64, 1111.08, 1111.52, 1111.96, 1112.4 ,\n",
              "       1112.84, 1113.28, 1113.72, 1114.16, 1114.6 , 1115.04, 1115.48,\n",
              "       1115.92, 1116.36, 1116.8 , 1117.24, 1117.68, 1118.12, 1118.56,\n",
              "       1119.  , 1119.44, 1119.88, 1120.32, 1120.76, 1121.2 , 1121.64,\n",
              "       1122.08, 1122.52, 1122.96, 1123.4 , 1123.84, 1124.28, 1124.72,\n",
              "       1125.16, 1125.6 , 1126.04, 1126.48, 1126.92, 1127.36, 1127.8 ,\n",
              "       1128.24, 1128.68, 1129.12, 1129.56, 1130.  , 1130.44, 1130.88,\n",
              "       1131.32, 1131.76, 1132.2 , 1132.64, 1133.08, 1133.52, 1133.96,\n",
              "       1134.4 , 1134.84, 1135.28, 1135.72, 1136.16, 1136.6 , 1137.04,\n",
              "       1137.48, 1137.92, 1138.36, 1138.8 , 1139.24, 1139.68, 1140.12,\n",
              "       1140.56, 1141.  , 1141.44, 1141.88, 1142.32, 1142.76, 1143.2 ,\n",
              "       1143.64, 1144.08, 1144.52, 1144.96, 1145.4 , 1145.84, 1146.28,\n",
              "       1146.72, 1147.16, 1147.6 , 1148.04, 1148.48, 1148.92, 1149.36,\n",
              "       1149.8 , 1150.24, 1150.68, 1151.12, 1151.56, 1152.  , 1152.44,\n",
              "       1152.88, 1153.32, 1153.76, 1154.2 , 1154.64, 1155.08, 1155.52,\n",
              "       1155.96, 1156.4 , 1156.84, 1157.28, 1157.72, 1158.16, 1158.6 ,\n",
              "       1159.04, 1159.48, 1159.92, 1160.36, 1160.8 , 1161.24, 1161.68,\n",
              "       1162.12, 1162.56, 1163.  , 1163.44, 1163.88, 1164.32, 1164.76,\n",
              "       1165.2 , 1165.64, 1166.08, 1166.52, 1166.96, 1167.4 , 1167.84,\n",
              "       1168.28, 1168.72, 1169.16, 1169.6 , 1170.04, 1170.48, 1170.92,\n",
              "       1171.36, 1171.8 , 1172.24, 1172.68, 1173.12, 1173.56])"
            ]
          },
          "metadata": {},
          "execution_count": 46
        }
      ]
    },
    {
      "cell_type": "code",
      "source": [
        "X = pd.DataFrame({'X1': X1, 'X2': X2, 'X3': X3})\n",
        "X"
      ],
      "metadata": {
        "colab": {
          "base_uri": "https://localhost:8080/",
          "height": 424
        },
        "id": "KKjsWJzSMRLn",
        "outputId": "fc7b57e2-1f64-4186-86be-a1240557229e"
      },
      "execution_count": null,
      "outputs": [
        {
          "output_type": "execute_result",
          "data": {
            "text/plain": [
              "        X1     X2     X3\n",
              "0     1.00  21.00  41.00\n",
              "1     1.02  21.02  41.02\n",
              "2     1.04  21.04  41.04\n",
              "3     1.06  21.06  41.06\n",
              "4     1.08  21.08  41.08\n",
              "..     ...    ...    ...\n",
              "995  20.90  40.90  60.90\n",
              "996  20.92  40.92  60.92\n",
              "997  20.94  40.94  60.94\n",
              "998  20.96  40.96  60.96\n",
              "999  20.98  40.98  60.98\n",
              "\n",
              "[1000 rows x 3 columns]"
            ],
            "text/html": [
              "\n",
              "  <div id=\"df-e62edc1b-43aa-4afb-93e9-369fd94d0abc\" class=\"colab-df-container\">\n",
              "    <div>\n",
              "<style scoped>\n",
              "    .dataframe tbody tr th:only-of-type {\n",
              "        vertical-align: middle;\n",
              "    }\n",
              "\n",
              "    .dataframe tbody tr th {\n",
              "        vertical-align: top;\n",
              "    }\n",
              "\n",
              "    .dataframe thead th {\n",
              "        text-align: right;\n",
              "    }\n",
              "</style>\n",
              "<table border=\"1\" class=\"dataframe\">\n",
              "  <thead>\n",
              "    <tr style=\"text-align: right;\">\n",
              "      <th></th>\n",
              "      <th>X1</th>\n",
              "      <th>X2</th>\n",
              "      <th>X3</th>\n",
              "    </tr>\n",
              "  </thead>\n",
              "  <tbody>\n",
              "    <tr>\n",
              "      <th>0</th>\n",
              "      <td>1.00</td>\n",
              "      <td>21.00</td>\n",
              "      <td>41.00</td>\n",
              "    </tr>\n",
              "    <tr>\n",
              "      <th>1</th>\n",
              "      <td>1.02</td>\n",
              "      <td>21.02</td>\n",
              "      <td>41.02</td>\n",
              "    </tr>\n",
              "    <tr>\n",
              "      <th>2</th>\n",
              "      <td>1.04</td>\n",
              "      <td>21.04</td>\n",
              "      <td>41.04</td>\n",
              "    </tr>\n",
              "    <tr>\n",
              "      <th>3</th>\n",
              "      <td>1.06</td>\n",
              "      <td>21.06</td>\n",
              "      <td>41.06</td>\n",
              "    </tr>\n",
              "    <tr>\n",
              "      <th>4</th>\n",
              "      <td>1.08</td>\n",
              "      <td>21.08</td>\n",
              "      <td>41.08</td>\n",
              "    </tr>\n",
              "    <tr>\n",
              "      <th>...</th>\n",
              "      <td>...</td>\n",
              "      <td>...</td>\n",
              "      <td>...</td>\n",
              "    </tr>\n",
              "    <tr>\n",
              "      <th>995</th>\n",
              "      <td>20.90</td>\n",
              "      <td>40.90</td>\n",
              "      <td>60.90</td>\n",
              "    </tr>\n",
              "    <tr>\n",
              "      <th>996</th>\n",
              "      <td>20.92</td>\n",
              "      <td>40.92</td>\n",
              "      <td>60.92</td>\n",
              "    </tr>\n",
              "    <tr>\n",
              "      <th>997</th>\n",
              "      <td>20.94</td>\n",
              "      <td>40.94</td>\n",
              "      <td>60.94</td>\n",
              "    </tr>\n",
              "    <tr>\n",
              "      <th>998</th>\n",
              "      <td>20.96</td>\n",
              "      <td>40.96</td>\n",
              "      <td>60.96</td>\n",
              "    </tr>\n",
              "    <tr>\n",
              "      <th>999</th>\n",
              "      <td>20.98</td>\n",
              "      <td>40.98</td>\n",
              "      <td>60.98</td>\n",
              "    </tr>\n",
              "  </tbody>\n",
              "</table>\n",
              "<p>1000 rows × 3 columns</p>\n",
              "</div>\n",
              "    <div class=\"colab-df-buttons\">\n",
              "\n",
              "  <div class=\"colab-df-container\">\n",
              "    <button class=\"colab-df-convert\" onclick=\"convertToInteractive('df-e62edc1b-43aa-4afb-93e9-369fd94d0abc')\"\n",
              "            title=\"Convert this dataframe to an interactive table.\"\n",
              "            style=\"display:none;\">\n",
              "\n",
              "  <svg xmlns=\"http://www.w3.org/2000/svg\" height=\"24px\" viewBox=\"0 -960 960 960\">\n",
              "    <path d=\"M120-120v-720h720v720H120Zm60-500h600v-160H180v160Zm220 220h160v-160H400v160Zm0 220h160v-160H400v160ZM180-400h160v-160H180v160Zm440 0h160v-160H620v160ZM180-180h160v-160H180v160Zm440 0h160v-160H620v160Z\"/>\n",
              "  </svg>\n",
              "    </button>\n",
              "\n",
              "  <style>\n",
              "    .colab-df-container {\n",
              "      display:flex;\n",
              "      gap: 12px;\n",
              "    }\n",
              "\n",
              "    .colab-df-convert {\n",
              "      background-color: #E8F0FE;\n",
              "      border: none;\n",
              "      border-radius: 50%;\n",
              "      cursor: pointer;\n",
              "      display: none;\n",
              "      fill: #1967D2;\n",
              "      height: 32px;\n",
              "      padding: 0 0 0 0;\n",
              "      width: 32px;\n",
              "    }\n",
              "\n",
              "    .colab-df-convert:hover {\n",
              "      background-color: #E2EBFA;\n",
              "      box-shadow: 0px 1px 2px rgba(60, 64, 67, 0.3), 0px 1px 3px 1px rgba(60, 64, 67, 0.15);\n",
              "      fill: #174EA6;\n",
              "    }\n",
              "\n",
              "    .colab-df-buttons div {\n",
              "      margin-bottom: 4px;\n",
              "    }\n",
              "\n",
              "    [theme=dark] .colab-df-convert {\n",
              "      background-color: #3B4455;\n",
              "      fill: #D2E3FC;\n",
              "    }\n",
              "\n",
              "    [theme=dark] .colab-df-convert:hover {\n",
              "      background-color: #434B5C;\n",
              "      box-shadow: 0px 1px 3px 1px rgba(0, 0, 0, 0.15);\n",
              "      filter: drop-shadow(0px 1px 2px rgba(0, 0, 0, 0.3));\n",
              "      fill: #FFFFFF;\n",
              "    }\n",
              "  </style>\n",
              "\n",
              "    <script>\n",
              "      const buttonEl =\n",
              "        document.querySelector('#df-e62edc1b-43aa-4afb-93e9-369fd94d0abc button.colab-df-convert');\n",
              "      buttonEl.style.display =\n",
              "        google.colab.kernel.accessAllowed ? 'block' : 'none';\n",
              "\n",
              "      async function convertToInteractive(key) {\n",
              "        const element = document.querySelector('#df-e62edc1b-43aa-4afb-93e9-369fd94d0abc');\n",
              "        const dataTable =\n",
              "          await google.colab.kernel.invokeFunction('convertToInteractive',\n",
              "                                                    [key], {});\n",
              "        if (!dataTable) return;\n",
              "\n",
              "        const docLinkHtml = 'Like what you see? Visit the ' +\n",
              "          '<a target=\"_blank\" href=https://colab.research.google.com/notebooks/data_table.ipynb>data table notebook</a>'\n",
              "          + ' to learn more about interactive tables.';\n",
              "        element.innerHTML = '';\n",
              "        dataTable['output_type'] = 'display_data';\n",
              "        await google.colab.output.renderOutput(dataTable, element);\n",
              "        const docLink = document.createElement('div');\n",
              "        docLink.innerHTML = docLinkHtml;\n",
              "        element.appendChild(docLink);\n",
              "      }\n",
              "    </script>\n",
              "  </div>\n",
              "\n",
              "\n",
              "<div id=\"df-c0bd6ac2-f5b8-4674-8319-fbfdbff69833\">\n",
              "  <button class=\"colab-df-quickchart\" onclick=\"quickchart('df-c0bd6ac2-f5b8-4674-8319-fbfdbff69833')\"\n",
              "            title=\"Suggest charts\"\n",
              "            style=\"display:none;\">\n",
              "\n",
              "<svg xmlns=\"http://www.w3.org/2000/svg\" height=\"24px\"viewBox=\"0 0 24 24\"\n",
              "     width=\"24px\">\n",
              "    <g>\n",
              "        <path d=\"M19 3H5c-1.1 0-2 .9-2 2v14c0 1.1.9 2 2 2h14c1.1 0 2-.9 2-2V5c0-1.1-.9-2-2-2zM9 17H7v-7h2v7zm4 0h-2V7h2v10zm4 0h-2v-4h2v4z\"/>\n",
              "    </g>\n",
              "</svg>\n",
              "  </button>\n",
              "\n",
              "<style>\n",
              "  .colab-df-quickchart {\n",
              "      --bg-color: #E8F0FE;\n",
              "      --fill-color: #1967D2;\n",
              "      --hover-bg-color: #E2EBFA;\n",
              "      --hover-fill-color: #174EA6;\n",
              "      --disabled-fill-color: #AAA;\n",
              "      --disabled-bg-color: #DDD;\n",
              "  }\n",
              "\n",
              "  [theme=dark] .colab-df-quickchart {\n",
              "      --bg-color: #3B4455;\n",
              "      --fill-color: #D2E3FC;\n",
              "      --hover-bg-color: #434B5C;\n",
              "      --hover-fill-color: #FFFFFF;\n",
              "      --disabled-bg-color: #3B4455;\n",
              "      --disabled-fill-color: #666;\n",
              "  }\n",
              "\n",
              "  .colab-df-quickchart {\n",
              "    background-color: var(--bg-color);\n",
              "    border: none;\n",
              "    border-radius: 50%;\n",
              "    cursor: pointer;\n",
              "    display: none;\n",
              "    fill: var(--fill-color);\n",
              "    height: 32px;\n",
              "    padding: 0;\n",
              "    width: 32px;\n",
              "  }\n",
              "\n",
              "  .colab-df-quickchart:hover {\n",
              "    background-color: var(--hover-bg-color);\n",
              "    box-shadow: 0 1px 2px rgba(60, 64, 67, 0.3), 0 1px 3px 1px rgba(60, 64, 67, 0.15);\n",
              "    fill: var(--button-hover-fill-color);\n",
              "  }\n",
              "\n",
              "  .colab-df-quickchart-complete:disabled,\n",
              "  .colab-df-quickchart-complete:disabled:hover {\n",
              "    background-color: var(--disabled-bg-color);\n",
              "    fill: var(--disabled-fill-color);\n",
              "    box-shadow: none;\n",
              "  }\n",
              "\n",
              "  .colab-df-spinner {\n",
              "    border: 2px solid var(--fill-color);\n",
              "    border-color: transparent;\n",
              "    border-bottom-color: var(--fill-color);\n",
              "    animation:\n",
              "      spin 1s steps(1) infinite;\n",
              "  }\n",
              "\n",
              "  @keyframes spin {\n",
              "    0% {\n",
              "      border-color: transparent;\n",
              "      border-bottom-color: var(--fill-color);\n",
              "      border-left-color: var(--fill-color);\n",
              "    }\n",
              "    20% {\n",
              "      border-color: transparent;\n",
              "      border-left-color: var(--fill-color);\n",
              "      border-top-color: var(--fill-color);\n",
              "    }\n",
              "    30% {\n",
              "      border-color: transparent;\n",
              "      border-left-color: var(--fill-color);\n",
              "      border-top-color: var(--fill-color);\n",
              "      border-right-color: var(--fill-color);\n",
              "    }\n",
              "    40% {\n",
              "      border-color: transparent;\n",
              "      border-right-color: var(--fill-color);\n",
              "      border-top-color: var(--fill-color);\n",
              "    }\n",
              "    60% {\n",
              "      border-color: transparent;\n",
              "      border-right-color: var(--fill-color);\n",
              "    }\n",
              "    80% {\n",
              "      border-color: transparent;\n",
              "      border-right-color: var(--fill-color);\n",
              "      border-bottom-color: var(--fill-color);\n",
              "    }\n",
              "    90% {\n",
              "      border-color: transparent;\n",
              "      border-bottom-color: var(--fill-color);\n",
              "    }\n",
              "  }\n",
              "</style>\n",
              "\n",
              "  <script>\n",
              "    async function quickchart(key) {\n",
              "      const quickchartButtonEl =\n",
              "        document.querySelector('#' + key + ' button');\n",
              "      quickchartButtonEl.disabled = true;  // To prevent multiple clicks.\n",
              "      quickchartButtonEl.classList.add('colab-df-spinner');\n",
              "      try {\n",
              "        const charts = await google.colab.kernel.invokeFunction(\n",
              "            'suggestCharts', [key], {});\n",
              "      } catch (error) {\n",
              "        console.error('Error during call to suggestCharts:', error);\n",
              "      }\n",
              "      quickchartButtonEl.classList.remove('colab-df-spinner');\n",
              "      quickchartButtonEl.classList.add('colab-df-quickchart-complete');\n",
              "    }\n",
              "    (() => {\n",
              "      let quickchartButtonEl =\n",
              "        document.querySelector('#df-c0bd6ac2-f5b8-4674-8319-fbfdbff69833 button');\n",
              "      quickchartButtonEl.style.display =\n",
              "        google.colab.kernel.accessAllowed ? 'block' : 'none';\n",
              "    })();\n",
              "  </script>\n",
              "</div>\n",
              "\n",
              "  <div id=\"id_ad366257-159e-4c1a-90db-9bb1ce60c113\">\n",
              "    <style>\n",
              "      .colab-df-generate {\n",
              "        background-color: #E8F0FE;\n",
              "        border: none;\n",
              "        border-radius: 50%;\n",
              "        cursor: pointer;\n",
              "        display: none;\n",
              "        fill: #1967D2;\n",
              "        height: 32px;\n",
              "        padding: 0 0 0 0;\n",
              "        width: 32px;\n",
              "      }\n",
              "\n",
              "      .colab-df-generate:hover {\n",
              "        background-color: #E2EBFA;\n",
              "        box-shadow: 0px 1px 2px rgba(60, 64, 67, 0.3), 0px 1px 3px 1px rgba(60, 64, 67, 0.15);\n",
              "        fill: #174EA6;\n",
              "      }\n",
              "\n",
              "      [theme=dark] .colab-df-generate {\n",
              "        background-color: #3B4455;\n",
              "        fill: #D2E3FC;\n",
              "      }\n",
              "\n",
              "      [theme=dark] .colab-df-generate:hover {\n",
              "        background-color: #434B5C;\n",
              "        box-shadow: 0px 1px 3px 1px rgba(0, 0, 0, 0.15);\n",
              "        filter: drop-shadow(0px 1px 2px rgba(0, 0, 0, 0.3));\n",
              "        fill: #FFFFFF;\n",
              "      }\n",
              "    </style>\n",
              "    <button class=\"colab-df-generate\" onclick=\"generateWithVariable('X')\"\n",
              "            title=\"Generate code using this dataframe.\"\n",
              "            style=\"display:none;\">\n",
              "\n",
              "  <svg xmlns=\"http://www.w3.org/2000/svg\" height=\"24px\"viewBox=\"0 0 24 24\"\n",
              "       width=\"24px\">\n",
              "    <path d=\"M7,19H8.4L18.45,9,17,7.55,7,17.6ZM5,21V16.75L18.45,3.32a2,2,0,0,1,2.83,0l1.4,1.43a1.91,1.91,0,0,1,.58,1.4,1.91,1.91,0,0,1-.58,1.4L9.25,21ZM18.45,9,17,7.55Zm-12,3A5.31,5.31,0,0,0,4.9,8.1,5.31,5.31,0,0,0,1,6.5,5.31,5.31,0,0,0,4.9,4.9,5.31,5.31,0,0,0,6.5,1,5.31,5.31,0,0,0,8.1,4.9,5.31,5.31,0,0,0,12,6.5,5.46,5.46,0,0,0,6.5,12Z\"/>\n",
              "  </svg>\n",
              "    </button>\n",
              "    <script>\n",
              "      (() => {\n",
              "      const buttonEl =\n",
              "        document.querySelector('#id_ad366257-159e-4c1a-90db-9bb1ce60c113 button.colab-df-generate');\n",
              "      buttonEl.style.display =\n",
              "        google.colab.kernel.accessAllowed ? 'block' : 'none';\n",
              "\n",
              "      buttonEl.onclick = () => {\n",
              "        google.colab.notebook.generateWithVariable('X');\n",
              "      }\n",
              "      })();\n",
              "    </script>\n",
              "  </div>\n",
              "\n",
              "    </div>\n",
              "  </div>\n"
            ],
            "application/vnd.google.colaboratory.intrinsic+json": {
              "type": "dataframe",
              "variable_name": "X",
              "summary": "{\n  \"name\": \"X\",\n  \"rows\": 1000,\n  \"fields\": [\n    {\n      \"column\": \"X1\",\n      \"properties\": {\n        \"dtype\": \"number\",\n        \"std\": 5.776388721914993,\n        \"min\": 1.0,\n        \"max\": 20.980000000000018,\n        \"num_unique_values\": 1000,\n        \"samples\": [\n          11.420000000000009,\n          15.740000000000013,\n          15.800000000000013\n        ],\n        \"semantic_type\": \"\",\n        \"description\": \"\"\n      }\n    },\n    {\n      \"column\": \"X2\",\n      \"properties\": {\n        \"dtype\": \"number\",\n        \"std\": 5.7763887219148655,\n        \"min\": 21.0,\n        \"max\": 40.97999999999958,\n        \"num_unique_values\": 1000,\n        \"samples\": [\n          31.419999999999778,\n          35.73999999999968,\n          35.799999999999685\n        ],\n        \"semantic_type\": \"\",\n        \"description\": \"\"\n      }\n    },\n    {\n      \"column\": \"X3\",\n      \"properties\": {\n        \"dtype\": \"number\",\n        \"std\": 5.7763887219158905,\n        \"min\": 41.0,\n        \"max\": 60.98000000000312,\n        \"num_unique_values\": 1000,\n        \"samples\": [\n          51.42000000000163,\n          55.740000000002304,\n          55.80000000000231\n        ],\n        \"semantic_type\": \"\",\n        \"description\": \"\"\n      }\n    }\n  ]\n}"
            }
          },
          "metadata": {},
          "execution_count": 47
        }
      ]
    },
    {
      "cell_type": "code",
      "source": [
        "len(X), len(y)"
      ],
      "metadata": {
        "colab": {
          "base_uri": "https://localhost:8080/"
        },
        "id": "vkCeM4ulU1Ej",
        "outputId": "fcf0ef0d-2a16-4bbf-aa55-4e000458f38f"
      },
      "execution_count": null,
      "outputs": [
        {
          "output_type": "execute_result",
          "data": {
            "text/plain": [
              "(1000, 1000)"
            ]
          },
          "metadata": {},
          "execution_count": 48
        }
      ]
    },
    {
      "cell_type": "code",
      "source": [
        "X_train, X_test, y_train, y_test = train_test_split(X, y, test_size = 0.2)"
      ],
      "metadata": {
        "id": "LUIShV7YLkPN"
      },
      "execution_count": null,
      "outputs": []
    },
    {
      "cell_type": "code",
      "source": [
        "len(X_train), len(X_test), len(y_train), len(y_test)"
      ],
      "metadata": {
        "colab": {
          "base_uri": "https://localhost:8080/"
        },
        "id": "u04yM3ApL9lx",
        "outputId": "6ddb0209-a75e-48f8-80af-cc7d47a50ca1"
      },
      "execution_count": null,
      "outputs": [
        {
          "output_type": "execute_result",
          "data": {
            "text/plain": [
              "(800, 200, 800, 200)"
            ]
          },
          "metadata": {},
          "execution_count": 50
        }
      ]
    },
    {
      "cell_type": "code",
      "source": [
        "X_test"
      ],
      "metadata": {
        "colab": {
          "base_uri": "https://localhost:8080/",
          "height": 424
        },
        "id": "yAnQ_qLGNUN6",
        "outputId": "21445d54-6bb5-4052-ce36-381b8d3e91af"
      },
      "execution_count": null,
      "outputs": [
        {
          "output_type": "execute_result",
          "data": {
            "text/plain": [
              "        X1     X2     X3\n",
              "284   6.68  26.68  46.68\n",
              "956  20.12  40.12  60.12\n",
              "811  17.22  37.22  57.22\n",
              "391   8.82  28.82  48.82\n",
              "295   6.90  26.90  46.90\n",
              "..     ...    ...    ...\n",
              "361   8.22  28.22  48.22\n",
              "954  20.08  40.08  60.08\n",
              "165   4.30  24.30  44.30\n",
              "111   3.22  23.22  43.22\n",
              "243   5.86  25.86  45.86\n",
              "\n",
              "[200 rows x 3 columns]"
            ],
            "text/html": [
              "\n",
              "  <div id=\"df-cbdc2fd2-6ecc-420e-9e5b-ff7b40770c49\" class=\"colab-df-container\">\n",
              "    <div>\n",
              "<style scoped>\n",
              "    .dataframe tbody tr th:only-of-type {\n",
              "        vertical-align: middle;\n",
              "    }\n",
              "\n",
              "    .dataframe tbody tr th {\n",
              "        vertical-align: top;\n",
              "    }\n",
              "\n",
              "    .dataframe thead th {\n",
              "        text-align: right;\n",
              "    }\n",
              "</style>\n",
              "<table border=\"1\" class=\"dataframe\">\n",
              "  <thead>\n",
              "    <tr style=\"text-align: right;\">\n",
              "      <th></th>\n",
              "      <th>X1</th>\n",
              "      <th>X2</th>\n",
              "      <th>X3</th>\n",
              "    </tr>\n",
              "  </thead>\n",
              "  <tbody>\n",
              "    <tr>\n",
              "      <th>284</th>\n",
              "      <td>6.68</td>\n",
              "      <td>26.68</td>\n",
              "      <td>46.68</td>\n",
              "    </tr>\n",
              "    <tr>\n",
              "      <th>956</th>\n",
              "      <td>20.12</td>\n",
              "      <td>40.12</td>\n",
              "      <td>60.12</td>\n",
              "    </tr>\n",
              "    <tr>\n",
              "      <th>811</th>\n",
              "      <td>17.22</td>\n",
              "      <td>37.22</td>\n",
              "      <td>57.22</td>\n",
              "    </tr>\n",
              "    <tr>\n",
              "      <th>391</th>\n",
              "      <td>8.82</td>\n",
              "      <td>28.82</td>\n",
              "      <td>48.82</td>\n",
              "    </tr>\n",
              "    <tr>\n",
              "      <th>295</th>\n",
              "      <td>6.90</td>\n",
              "      <td>26.90</td>\n",
              "      <td>46.90</td>\n",
              "    </tr>\n",
              "    <tr>\n",
              "      <th>...</th>\n",
              "      <td>...</td>\n",
              "      <td>...</td>\n",
              "      <td>...</td>\n",
              "    </tr>\n",
              "    <tr>\n",
              "      <th>361</th>\n",
              "      <td>8.22</td>\n",
              "      <td>28.22</td>\n",
              "      <td>48.22</td>\n",
              "    </tr>\n",
              "    <tr>\n",
              "      <th>954</th>\n",
              "      <td>20.08</td>\n",
              "      <td>40.08</td>\n",
              "      <td>60.08</td>\n",
              "    </tr>\n",
              "    <tr>\n",
              "      <th>165</th>\n",
              "      <td>4.30</td>\n",
              "      <td>24.30</td>\n",
              "      <td>44.30</td>\n",
              "    </tr>\n",
              "    <tr>\n",
              "      <th>111</th>\n",
              "      <td>3.22</td>\n",
              "      <td>23.22</td>\n",
              "      <td>43.22</td>\n",
              "    </tr>\n",
              "    <tr>\n",
              "      <th>243</th>\n",
              "      <td>5.86</td>\n",
              "      <td>25.86</td>\n",
              "      <td>45.86</td>\n",
              "    </tr>\n",
              "  </tbody>\n",
              "</table>\n",
              "<p>200 rows × 3 columns</p>\n",
              "</div>\n",
              "    <div class=\"colab-df-buttons\">\n",
              "\n",
              "  <div class=\"colab-df-container\">\n",
              "    <button class=\"colab-df-convert\" onclick=\"convertToInteractive('df-cbdc2fd2-6ecc-420e-9e5b-ff7b40770c49')\"\n",
              "            title=\"Convert this dataframe to an interactive table.\"\n",
              "            style=\"display:none;\">\n",
              "\n",
              "  <svg xmlns=\"http://www.w3.org/2000/svg\" height=\"24px\" viewBox=\"0 -960 960 960\">\n",
              "    <path d=\"M120-120v-720h720v720H120Zm60-500h600v-160H180v160Zm220 220h160v-160H400v160Zm0 220h160v-160H400v160ZM180-400h160v-160H180v160Zm440 0h160v-160H620v160ZM180-180h160v-160H180v160Zm440 0h160v-160H620v160Z\"/>\n",
              "  </svg>\n",
              "    </button>\n",
              "\n",
              "  <style>\n",
              "    .colab-df-container {\n",
              "      display:flex;\n",
              "      gap: 12px;\n",
              "    }\n",
              "\n",
              "    .colab-df-convert {\n",
              "      background-color: #E8F0FE;\n",
              "      border: none;\n",
              "      border-radius: 50%;\n",
              "      cursor: pointer;\n",
              "      display: none;\n",
              "      fill: #1967D2;\n",
              "      height: 32px;\n",
              "      padding: 0 0 0 0;\n",
              "      width: 32px;\n",
              "    }\n",
              "\n",
              "    .colab-df-convert:hover {\n",
              "      background-color: #E2EBFA;\n",
              "      box-shadow: 0px 1px 2px rgba(60, 64, 67, 0.3), 0px 1px 3px 1px rgba(60, 64, 67, 0.15);\n",
              "      fill: #174EA6;\n",
              "    }\n",
              "\n",
              "    .colab-df-buttons div {\n",
              "      margin-bottom: 4px;\n",
              "    }\n",
              "\n",
              "    [theme=dark] .colab-df-convert {\n",
              "      background-color: #3B4455;\n",
              "      fill: #D2E3FC;\n",
              "    }\n",
              "\n",
              "    [theme=dark] .colab-df-convert:hover {\n",
              "      background-color: #434B5C;\n",
              "      box-shadow: 0px 1px 3px 1px rgba(0, 0, 0, 0.15);\n",
              "      filter: drop-shadow(0px 1px 2px rgba(0, 0, 0, 0.3));\n",
              "      fill: #FFFFFF;\n",
              "    }\n",
              "  </style>\n",
              "\n",
              "    <script>\n",
              "      const buttonEl =\n",
              "        document.querySelector('#df-cbdc2fd2-6ecc-420e-9e5b-ff7b40770c49 button.colab-df-convert');\n",
              "      buttonEl.style.display =\n",
              "        google.colab.kernel.accessAllowed ? 'block' : 'none';\n",
              "\n",
              "      async function convertToInteractive(key) {\n",
              "        const element = document.querySelector('#df-cbdc2fd2-6ecc-420e-9e5b-ff7b40770c49');\n",
              "        const dataTable =\n",
              "          await google.colab.kernel.invokeFunction('convertToInteractive',\n",
              "                                                    [key], {});\n",
              "        if (!dataTable) return;\n",
              "\n",
              "        const docLinkHtml = 'Like what you see? Visit the ' +\n",
              "          '<a target=\"_blank\" href=https://colab.research.google.com/notebooks/data_table.ipynb>data table notebook</a>'\n",
              "          + ' to learn more about interactive tables.';\n",
              "        element.innerHTML = '';\n",
              "        dataTable['output_type'] = 'display_data';\n",
              "        await google.colab.output.renderOutput(dataTable, element);\n",
              "        const docLink = document.createElement('div');\n",
              "        docLink.innerHTML = docLinkHtml;\n",
              "        element.appendChild(docLink);\n",
              "      }\n",
              "    </script>\n",
              "  </div>\n",
              "\n",
              "\n",
              "<div id=\"df-c70e5aca-5b49-4d21-9c9a-5fdb9b82dd60\">\n",
              "  <button class=\"colab-df-quickchart\" onclick=\"quickchart('df-c70e5aca-5b49-4d21-9c9a-5fdb9b82dd60')\"\n",
              "            title=\"Suggest charts\"\n",
              "            style=\"display:none;\">\n",
              "\n",
              "<svg xmlns=\"http://www.w3.org/2000/svg\" height=\"24px\"viewBox=\"0 0 24 24\"\n",
              "     width=\"24px\">\n",
              "    <g>\n",
              "        <path d=\"M19 3H5c-1.1 0-2 .9-2 2v14c0 1.1.9 2 2 2h14c1.1 0 2-.9 2-2V5c0-1.1-.9-2-2-2zM9 17H7v-7h2v7zm4 0h-2V7h2v10zm4 0h-2v-4h2v4z\"/>\n",
              "    </g>\n",
              "</svg>\n",
              "  </button>\n",
              "\n",
              "<style>\n",
              "  .colab-df-quickchart {\n",
              "      --bg-color: #E8F0FE;\n",
              "      --fill-color: #1967D2;\n",
              "      --hover-bg-color: #E2EBFA;\n",
              "      --hover-fill-color: #174EA6;\n",
              "      --disabled-fill-color: #AAA;\n",
              "      --disabled-bg-color: #DDD;\n",
              "  }\n",
              "\n",
              "  [theme=dark] .colab-df-quickchart {\n",
              "      --bg-color: #3B4455;\n",
              "      --fill-color: #D2E3FC;\n",
              "      --hover-bg-color: #434B5C;\n",
              "      --hover-fill-color: #FFFFFF;\n",
              "      --disabled-bg-color: #3B4455;\n",
              "      --disabled-fill-color: #666;\n",
              "  }\n",
              "\n",
              "  .colab-df-quickchart {\n",
              "    background-color: var(--bg-color);\n",
              "    border: none;\n",
              "    border-radius: 50%;\n",
              "    cursor: pointer;\n",
              "    display: none;\n",
              "    fill: var(--fill-color);\n",
              "    height: 32px;\n",
              "    padding: 0;\n",
              "    width: 32px;\n",
              "  }\n",
              "\n",
              "  .colab-df-quickchart:hover {\n",
              "    background-color: var(--hover-bg-color);\n",
              "    box-shadow: 0 1px 2px rgba(60, 64, 67, 0.3), 0 1px 3px 1px rgba(60, 64, 67, 0.15);\n",
              "    fill: var(--button-hover-fill-color);\n",
              "  }\n",
              "\n",
              "  .colab-df-quickchart-complete:disabled,\n",
              "  .colab-df-quickchart-complete:disabled:hover {\n",
              "    background-color: var(--disabled-bg-color);\n",
              "    fill: var(--disabled-fill-color);\n",
              "    box-shadow: none;\n",
              "  }\n",
              "\n",
              "  .colab-df-spinner {\n",
              "    border: 2px solid var(--fill-color);\n",
              "    border-color: transparent;\n",
              "    border-bottom-color: var(--fill-color);\n",
              "    animation:\n",
              "      spin 1s steps(1) infinite;\n",
              "  }\n",
              "\n",
              "  @keyframes spin {\n",
              "    0% {\n",
              "      border-color: transparent;\n",
              "      border-bottom-color: var(--fill-color);\n",
              "      border-left-color: var(--fill-color);\n",
              "    }\n",
              "    20% {\n",
              "      border-color: transparent;\n",
              "      border-left-color: var(--fill-color);\n",
              "      border-top-color: var(--fill-color);\n",
              "    }\n",
              "    30% {\n",
              "      border-color: transparent;\n",
              "      border-left-color: var(--fill-color);\n",
              "      border-top-color: var(--fill-color);\n",
              "      border-right-color: var(--fill-color);\n",
              "    }\n",
              "    40% {\n",
              "      border-color: transparent;\n",
              "      border-right-color: var(--fill-color);\n",
              "      border-top-color: var(--fill-color);\n",
              "    }\n",
              "    60% {\n",
              "      border-color: transparent;\n",
              "      border-right-color: var(--fill-color);\n",
              "    }\n",
              "    80% {\n",
              "      border-color: transparent;\n",
              "      border-right-color: var(--fill-color);\n",
              "      border-bottom-color: var(--fill-color);\n",
              "    }\n",
              "    90% {\n",
              "      border-color: transparent;\n",
              "      border-bottom-color: var(--fill-color);\n",
              "    }\n",
              "  }\n",
              "</style>\n",
              "\n",
              "  <script>\n",
              "    async function quickchart(key) {\n",
              "      const quickchartButtonEl =\n",
              "        document.querySelector('#' + key + ' button');\n",
              "      quickchartButtonEl.disabled = true;  // To prevent multiple clicks.\n",
              "      quickchartButtonEl.classList.add('colab-df-spinner');\n",
              "      try {\n",
              "        const charts = await google.colab.kernel.invokeFunction(\n",
              "            'suggestCharts', [key], {});\n",
              "      } catch (error) {\n",
              "        console.error('Error during call to suggestCharts:', error);\n",
              "      }\n",
              "      quickchartButtonEl.classList.remove('colab-df-spinner');\n",
              "      quickchartButtonEl.classList.add('colab-df-quickchart-complete');\n",
              "    }\n",
              "    (() => {\n",
              "      let quickchartButtonEl =\n",
              "        document.querySelector('#df-c70e5aca-5b49-4d21-9c9a-5fdb9b82dd60 button');\n",
              "      quickchartButtonEl.style.display =\n",
              "        google.colab.kernel.accessAllowed ? 'block' : 'none';\n",
              "    })();\n",
              "  </script>\n",
              "</div>\n",
              "\n",
              "  <div id=\"id_8ba4c6df-c090-4037-9fd0-bee43464129d\">\n",
              "    <style>\n",
              "      .colab-df-generate {\n",
              "        background-color: #E8F0FE;\n",
              "        border: none;\n",
              "        border-radius: 50%;\n",
              "        cursor: pointer;\n",
              "        display: none;\n",
              "        fill: #1967D2;\n",
              "        height: 32px;\n",
              "        padding: 0 0 0 0;\n",
              "        width: 32px;\n",
              "      }\n",
              "\n",
              "      .colab-df-generate:hover {\n",
              "        background-color: #E2EBFA;\n",
              "        box-shadow: 0px 1px 2px rgba(60, 64, 67, 0.3), 0px 1px 3px 1px rgba(60, 64, 67, 0.15);\n",
              "        fill: #174EA6;\n",
              "      }\n",
              "\n",
              "      [theme=dark] .colab-df-generate {\n",
              "        background-color: #3B4455;\n",
              "        fill: #D2E3FC;\n",
              "      }\n",
              "\n",
              "      [theme=dark] .colab-df-generate:hover {\n",
              "        background-color: #434B5C;\n",
              "        box-shadow: 0px 1px 3px 1px rgba(0, 0, 0, 0.15);\n",
              "        filter: drop-shadow(0px 1px 2px rgba(0, 0, 0, 0.3));\n",
              "        fill: #FFFFFF;\n",
              "      }\n",
              "    </style>\n",
              "    <button class=\"colab-df-generate\" onclick=\"generateWithVariable('X_test')\"\n",
              "            title=\"Generate code using this dataframe.\"\n",
              "            style=\"display:none;\">\n",
              "\n",
              "  <svg xmlns=\"http://www.w3.org/2000/svg\" height=\"24px\"viewBox=\"0 0 24 24\"\n",
              "       width=\"24px\">\n",
              "    <path d=\"M7,19H8.4L18.45,9,17,7.55,7,17.6ZM5,21V16.75L18.45,3.32a2,2,0,0,1,2.83,0l1.4,1.43a1.91,1.91,0,0,1,.58,1.4,1.91,1.91,0,0,1-.58,1.4L9.25,21ZM18.45,9,17,7.55Zm-12,3A5.31,5.31,0,0,0,4.9,8.1,5.31,5.31,0,0,0,1,6.5,5.31,5.31,0,0,0,4.9,4.9,5.31,5.31,0,0,0,6.5,1,5.31,5.31,0,0,0,8.1,4.9,5.31,5.31,0,0,0,12,6.5,5.46,5.46,0,0,0,6.5,12Z\"/>\n",
              "  </svg>\n",
              "    </button>\n",
              "    <script>\n",
              "      (() => {\n",
              "      const buttonEl =\n",
              "        document.querySelector('#id_8ba4c6df-c090-4037-9fd0-bee43464129d button.colab-df-generate');\n",
              "      buttonEl.style.display =\n",
              "        google.colab.kernel.accessAllowed ? 'block' : 'none';\n",
              "\n",
              "      buttonEl.onclick = () => {\n",
              "        google.colab.notebook.generateWithVariable('X_test');\n",
              "      }\n",
              "      })();\n",
              "    </script>\n",
              "  </div>\n",
              "\n",
              "    </div>\n",
              "  </div>\n"
            ],
            "application/vnd.google.colaboratory.intrinsic+json": {
              "type": "dataframe",
              "variable_name": "X_test",
              "summary": "{\n  \"name\": \"X_test\",\n  \"rows\": 200,\n  \"fields\": [\n    {\n      \"column\": \"X1\",\n      \"properties\": {\n        \"dtype\": \"number\",\n        \"std\": 5.9764812457165855,\n        \"min\": 1.04,\n        \"max\": 20.980000000000018,\n        \"num_unique_values\": 200,\n        \"samples\": [\n          5.260000000000003,\n          4.9200000000000035,\n          3.5600000000000023\n        ],\n        \"semantic_type\": \"\",\n        \"description\": \"\"\n      }\n    },\n    {\n      \"column\": \"X2\",\n      \"properties\": {\n        \"dtype\": \"number\",\n        \"std\": 5.976481245716453,\n        \"min\": 21.04,\n        \"max\": 40.97999999999958,\n        \"num_unique_values\": 200,\n        \"samples\": [\n          25.25999999999991,\n          24.919999999999916,\n          23.559999999999945\n        ],\n        \"semantic_type\": \"\",\n        \"description\": \"\"\n      }\n    },\n    {\n      \"column\": \"X3\",\n      \"properties\": {\n        \"dtype\": \"number\",\n        \"std\": 5.976481245717514,\n        \"min\": 41.040000000000006,\n        \"max\": 60.98000000000312,\n        \"num_unique_values\": 200,\n        \"samples\": [\n          45.260000000000666,\n          44.92000000000061,\n          43.5600000000004\n        ],\n        \"semantic_type\": \"\",\n        \"description\": \"\"\n      }\n    }\n  ]\n}"
            }
          },
          "metadata": {},
          "execution_count": 51
        }
      ]
    },
    {
      "cell_type": "code",
      "source": [
        "X_train = X_train.to_numpy(dtype = np.float32)\n",
        "X_train"
      ],
      "metadata": {
        "colab": {
          "base_uri": "https://localhost:8080/"
        },
        "id": "Cupyw6iHNhBy",
        "outputId": "fc264278-30e9-48f1-8aad-544f795d6c1b"
      },
      "execution_count": null,
      "outputs": [
        {
          "output_type": "execute_result",
          "data": {
            "text/plain": [
              "array([[14.88, 34.88, 54.88],\n",
              "       [ 2.84, 22.84, 42.84],\n",
              "       [ 4.12, 24.12, 44.12],\n",
              "       ...,\n",
              "       [16.36, 36.36, 56.36],\n",
              "       [14.26, 34.26, 54.26],\n",
              "       [ 9.34, 29.34, 49.34]], dtype=float32)"
            ]
          },
          "metadata": {},
          "execution_count": 52
        }
      ]
    },
    {
      "cell_type": "code",
      "source": [
        "loss_fn = nn.L1Loss()\n",
        "optimizer = torch.optim.SGD(params = model1.parameters(), lr = 0.01)"
      ],
      "metadata": {
        "id": "1w4psKEnQBnt"
      },
      "execution_count": null,
      "outputs": []
    },
    {
      "cell_type": "code",
      "source": [
        "device  = 'cuda' if torch.cuda.is_available() else 'cpu'\n",
        "device"
      ],
      "metadata": {
        "colab": {
          "base_uri": "https://localhost:8080/",
          "height": 35
        },
        "id": "zUic5STqQBp1",
        "outputId": "740c5ac5-f255-40c7-8df7-b924a9afb979"
      },
      "execution_count": null,
      "outputs": [
        {
          "output_type": "execute_result",
          "data": {
            "text/plain": [
              "'cuda'"
            ],
            "application/vnd.google.colaboratory.intrinsic+json": {
              "type": "string"
            }
          },
          "metadata": {},
          "execution_count": 54
        }
      ]
    },
    {
      "cell_type": "code",
      "source": [
        "model1 = model1.to(device)\n",
        "next(model1.parameters()).device"
      ],
      "metadata": {
        "colab": {
          "base_uri": "https://localhost:8080/"
        },
        "id": "7C6b0jwBRRYN",
        "outputId": "95b79828-e244-4902-b6db-cc87bf663047"
      },
      "execution_count": null,
      "outputs": [
        {
          "output_type": "execute_result",
          "data": {
            "text/plain": [
              "device(type='cuda', index=0)"
            ]
          },
          "metadata": {},
          "execution_count": 55
        }
      ]
    },
    {
      "cell_type": "code",
      "source": [
        "X_train = torch.from_numpy(X_train).to(device)"
      ],
      "metadata": {
        "id": "LCG8-N63R1se"
      },
      "execution_count": null,
      "outputs": []
    },
    {
      "cell_type": "code",
      "source": [
        "len(X_train)"
      ],
      "metadata": {
        "colab": {
          "base_uri": "https://localhost:8080/"
        },
        "id": "oGzse-_RTS3Z",
        "outputId": "25ab7b18-12b0-41fd-f2ce-d25d24f66ae4"
      },
      "execution_count": null,
      "outputs": [
        {
          "output_type": "execute_result",
          "data": {
            "text/plain": [
              "800"
            ]
          },
          "metadata": {},
          "execution_count": 58
        }
      ]
    },
    {
      "cell_type": "code",
      "source": [
        "y_train = y_train.astype(dtype = np.float32)"
      ],
      "metadata": {
        "id": "iJ1EMAsoSH6r"
      },
      "execution_count": null,
      "outputs": []
    },
    {
      "cell_type": "code",
      "source": [
        "len(y_train)"
      ],
      "metadata": {
        "colab": {
          "base_uri": "https://localhost:8080/"
        },
        "id": "0YAUYBCNTWWR",
        "outputId": "636fe8af-27aa-470d-b830-6b809ffd0393"
      },
      "execution_count": null,
      "outputs": [
        {
          "output_type": "execute_result",
          "data": {
            "text/plain": [
              "800"
            ]
          },
          "metadata": {},
          "execution_count": 61
        }
      ]
    },
    {
      "cell_type": "code",
      "source": [
        "y_train = torch.from_numpy(y_train).to(device)"
      ],
      "metadata": {
        "id": "0H8g3nRdR197"
      },
      "execution_count": null,
      "outputs": []
    },
    {
      "cell_type": "code",
      "source": [
        "epoch = 10000\n",
        "\n",
        "for i in range(epoch):\n",
        "  model1.train()\n",
        "\n",
        "  y_pred_train = model1(X_train)\n",
        "\n",
        "  loss = loss_fn(y_pred_train, y_train)\n",
        "\n",
        "  optimizer.zero_grad()\n",
        "\n",
        "  loss.backward()\n",
        "\n",
        "  optimizer.step()\n",
        "\n"
      ],
      "metadata": {
        "id": "ALEciKxoMxUI"
      },
      "execution_count": null,
      "outputs": []
    },
    {
      "cell_type": "code",
      "source": [
        "loss"
      ],
      "metadata": {
        "colab": {
          "base_uri": "https://localhost:8080/"
        },
        "id": "WjOL3IikNc29",
        "outputId": "98805cef-9e79-4612-d551-be5a13033905"
      },
      "execution_count": null,
      "outputs": [
        {
          "output_type": "execute_result",
          "data": {
            "text/plain": [
              "tensor(108.5304, device='cuda:0', grad_fn=<MeanBackward0>)"
            ]
          },
          "metadata": {},
          "execution_count": 66
        }
      ]
    },
    {
      "cell_type": "code",
      "source": [
        "model1.state_dict()\n",
        "# w1 = 3\n",
        "# w2 = 5\n",
        "# w3 = 14\n",
        "# b = 52"
      ],
      "metadata": {
        "colab": {
          "base_uri": "https://localhost:8080/"
        },
        "id": "CsvjNRohPwZI",
        "outputId": "28e5cacc-b03f-4e77-d057-bb2f8d35a58d"
      },
      "execution_count": null,
      "outputs": [
        {
          "output_type": "execute_result",
          "data": {
            "text/plain": [
              "OrderedDict([('linear_layer1.weight',\n",
              "              tensor([[-23.9293,   0.2248,  23.7266]], device='cuda:0')),\n",
              "             ('linear_layer1.bias', tensor([1.7362], device='cuda:0'))])"
            ]
          },
          "metadata": {},
          "execution_count": 28
        }
      ]
    },
    {
      "cell_type": "code",
      "source": [],
      "metadata": {
        "id": "CDWpZsHAT3Ee"
      },
      "execution_count": null,
      "outputs": []
    }
  ]
}