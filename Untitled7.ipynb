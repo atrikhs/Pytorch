{
  "nbformat": 4,
  "nbformat_minor": 0,
  "metadata": {
    "colab": {
      "provenance": [],
      "gpuType": "T4",
      "authorship_tag": "ABX9TyMKAl0qa5CAJZvMYhA1JohH",
      "include_colab_link": true
    },
    "kernelspec": {
      "name": "python3",
      "display_name": "Python 3"
    },
    "language_info": {
      "name": "python"
    },
    "accelerator": "GPU"
  },
  "cells": [
    {
      "cell_type": "markdown",
      "metadata": {
        "id": "view-in-github",
        "colab_type": "text"
      },
      "source": [
        "<a href=\"https://colab.research.google.com/github/atrikhs/Pytorch/blob/main/Untitled7.ipynb\" target=\"_parent\"><img src=\"https://colab.research.google.com/assets/colab-badge.svg\" alt=\"Open In Colab\"/></a>"
      ]
    },
    {
      "cell_type": "code",
      "execution_count": null,
      "metadata": {
        "id": "zh1i6iyJGr9w"
      },
      "outputs": [],
      "source": [
        "import torch"
      ]
    },
    {
      "cell_type": "code",
      "source": [
        "b = torch.rand(5,2,4,3,4)\n",
        "b"
      ],
      "metadata": {
        "colab": {
          "base_uri": "https://localhost:8080/"
        },
        "id": "BhMDsO_NGzuL",
        "outputId": "06dec828-3618-4deb-bfb3-1fead0f473ba"
      },
      "execution_count": null,
      "outputs": [
        {
          "output_type": "execute_result",
          "data": {
            "text/plain": [
              "tensor([[[[[0.5976, 0.6993, 0.9521, 0.4573],\n",
              "           [0.0506, 0.5499, 0.6691, 0.2168],\n",
              "           [0.1059, 0.8070, 0.9228, 0.9173]],\n",
              "\n",
              "          [[0.8989, 0.8827, 0.0089, 0.1434],\n",
              "           [0.6531, 0.5960, 0.1538, 0.5475],\n",
              "           [0.6783, 0.3484, 0.7697, 0.7753]],\n",
              "\n",
              "          [[0.0224, 0.8463, 0.4694, 0.1076],\n",
              "           [0.7389, 0.7486, 0.5864, 0.7378],\n",
              "           [0.0832, 0.4514, 0.3176, 0.2275]],\n",
              "\n",
              "          [[0.8231, 0.3294, 0.9682, 0.9246],\n",
              "           [0.9399, 0.0189, 0.8331, 0.3786],\n",
              "           [0.9646, 0.2735, 0.2589, 0.0354]]],\n",
              "\n",
              "\n",
              "         [[[0.2734, 0.0970, 0.5120, 0.5828],\n",
              "           [0.5500, 0.5937, 0.0071, 0.2635],\n",
              "           [0.1138, 0.0607, 0.2748, 0.3306]],\n",
              "\n",
              "          [[0.8880, 0.3002, 0.7953, 0.1090],\n",
              "           [0.6906, 0.3022, 0.6224, 0.7745],\n",
              "           [0.1938, 0.5873, 0.2104, 0.8274]],\n",
              "\n",
              "          [[0.9186, 0.8217, 0.8321, 0.8021],\n",
              "           [0.4825, 0.8966, 0.1207, 0.5190],\n",
              "           [0.7748, 0.9348, 0.5705, 0.3880]],\n",
              "\n",
              "          [[0.1780, 0.6615, 0.9522, 0.0752],\n",
              "           [0.6343, 0.5815, 0.7440, 0.9580],\n",
              "           [0.6857, 0.9068, 0.4068, 0.7505]]]],\n",
              "\n",
              "\n",
              "\n",
              "        [[[[0.3226, 0.2855, 0.6026, 0.2112],\n",
              "           [0.2584, 0.2055, 0.6750, 0.6147],\n",
              "           [0.7673, 0.1762, 0.8561, 0.3772]],\n",
              "\n",
              "          [[0.2270, 0.9384, 0.6423, 0.8891],\n",
              "           [0.4421, 0.4553, 0.2820, 0.6735],\n",
              "           [0.1391, 0.4381, 0.7246, 0.9612]],\n",
              "\n",
              "          [[0.6588, 0.4756, 0.6969, 0.8614],\n",
              "           [0.5627, 0.5010, 0.6928, 0.6960],\n",
              "           [0.7335, 0.8399, 0.8821, 0.0282]],\n",
              "\n",
              "          [[0.5799, 0.4786, 0.0804, 0.1101],\n",
              "           [0.3355, 0.5366, 0.9918, 0.5640],\n",
              "           [0.9683, 0.3076, 0.2123, 0.3769]]],\n",
              "\n",
              "\n",
              "         [[[0.6420, 0.9536, 0.6813, 0.6991],\n",
              "           [0.2919, 0.6806, 0.5570, 0.9752],\n",
              "           [0.4940, 0.3054, 0.8800, 0.5956]],\n",
              "\n",
              "          [[0.4658, 0.0293, 0.0194, 0.2046],\n",
              "           [0.6051, 0.4395, 0.5373, 0.4598],\n",
              "           [0.4079, 0.9786, 0.5496, 0.3259]],\n",
              "\n",
              "          [[0.1116, 0.4231, 0.8397, 0.9794],\n",
              "           [0.1925, 0.1733, 0.6110, 0.5187],\n",
              "           [0.8376, 0.2546, 0.0103, 0.7766]],\n",
              "\n",
              "          [[0.2753, 0.3756, 0.1983, 0.1825],\n",
              "           [0.8255, 0.7588, 0.1113, 0.8551],\n",
              "           [0.2742, 0.2860, 0.9017, 0.0231]]]],\n",
              "\n",
              "\n",
              "\n",
              "        [[[[0.3439, 0.6692, 0.1903, 0.6855],\n",
              "           [0.8501, 0.2153, 0.8135, 0.4481],\n",
              "           [0.6371, 0.2347, 0.8441, 0.2826]],\n",
              "\n",
              "          [[0.5547, 0.5557, 0.4580, 0.2772],\n",
              "           [0.5850, 0.5991, 0.0948, 0.9504],\n",
              "           [0.0111, 0.0795, 0.7016, 0.0047]],\n",
              "\n",
              "          [[0.2341, 0.7874, 0.9877, 0.3712],\n",
              "           [0.3931, 0.1135, 0.8475, 0.3061],\n",
              "           [0.5929, 0.6939, 0.3693, 0.0601]],\n",
              "\n",
              "          [[0.4696, 0.6140, 0.8962, 0.2906],\n",
              "           [0.5410, 0.2063, 0.0079, 0.8024],\n",
              "           [0.9251, 0.7325, 0.4605, 0.2263]]],\n",
              "\n",
              "\n",
              "         [[[0.2160, 0.1842, 0.7879, 0.0986],\n",
              "           [0.0471, 0.1241, 0.7644, 0.6405],\n",
              "           [0.3212, 0.1753, 0.9376, 0.3124]],\n",
              "\n",
              "          [[0.2914, 0.5466, 0.6528, 0.4822],\n",
              "           [0.8235, 0.2600, 0.8901, 0.5650],\n",
              "           [0.1255, 0.5528, 0.8550, 0.5475]],\n",
              "\n",
              "          [[0.1596, 0.5997, 0.2143, 0.6251],\n",
              "           [0.6148, 0.9356, 0.5794, 0.1758],\n",
              "           [0.0401, 0.4607, 0.8621, 0.2508]],\n",
              "\n",
              "          [[0.3940, 0.7150, 0.6219, 0.4385],\n",
              "           [0.7361, 0.7479, 0.0741, 0.7159],\n",
              "           [0.8873, 0.5582, 0.7596, 0.8681]]]],\n",
              "\n",
              "\n",
              "\n",
              "        [[[[0.1533, 0.3377, 0.0797, 0.4691],\n",
              "           [0.7858, 0.4677, 0.5102, 0.7844],\n",
              "           [0.8375, 0.9088, 0.8560, 0.1541]],\n",
              "\n",
              "          [[0.8290, 0.8670, 0.0146, 0.9207],\n",
              "           [0.6869, 0.6293, 0.5070, 0.8737],\n",
              "           [0.0613, 0.1528, 0.8597, 0.9469]],\n",
              "\n",
              "          [[0.3683, 0.2636, 0.6916, 0.1660],\n",
              "           [0.7264, 0.2868, 0.9373, 0.5387],\n",
              "           [0.6738, 0.7105, 0.7819, 0.7630]],\n",
              "\n",
              "          [[0.3189, 0.6100, 0.8336, 0.3600],\n",
              "           [0.5805, 0.2526, 0.7448, 0.0739],\n",
              "           [0.0220, 0.7783, 0.7465, 0.7098]]],\n",
              "\n",
              "\n",
              "         [[[0.1405, 0.9113, 0.0616, 0.2510],\n",
              "           [0.4440, 0.6318, 0.5888, 0.5619],\n",
              "           [0.4741, 0.6330, 0.1883, 0.2022]],\n",
              "\n",
              "          [[0.2309, 0.6531, 0.9571, 0.5934],\n",
              "           [0.2276, 0.7410, 0.5508, 0.1059],\n",
              "           [0.6803, 0.0351, 0.8687, 0.8921]],\n",
              "\n",
              "          [[0.1341, 0.7431, 0.0566, 0.0814],\n",
              "           [0.4555, 0.3413, 0.3709, 0.0881],\n",
              "           [0.4542, 0.7023, 0.3893, 0.1137]],\n",
              "\n",
              "          [[0.6028, 0.7263, 0.4783, 0.8605],\n",
              "           [0.5523, 0.4478, 0.8961, 0.8499],\n",
              "           [0.1616, 0.1057, 0.1420, 0.0373]]]],\n",
              "\n",
              "\n",
              "\n",
              "        [[[[0.9195, 0.7635, 0.8009, 0.2892],\n",
              "           [0.4836, 0.6433, 0.1229, 0.5561],\n",
              "           [0.6631, 0.9742, 0.4417, 0.4618]],\n",
              "\n",
              "          [[0.3139, 0.0964, 0.1196, 0.1159],\n",
              "           [0.1751, 0.9283, 0.5572, 0.0983],\n",
              "           [0.3564, 0.6132, 0.5689, 0.9488]],\n",
              "\n",
              "          [[0.7307, 0.7250, 0.9084, 0.9558],\n",
              "           [0.6905, 0.4205, 0.2533, 0.2918],\n",
              "           [0.3083, 0.0755, 0.0482, 0.3076]],\n",
              "\n",
              "          [[0.6905, 0.5618, 0.7469, 0.5508],\n",
              "           [0.1523, 0.1830, 0.1620, 0.9190],\n",
              "           [0.6703, 0.4788, 0.8756, 0.5450]]],\n",
              "\n",
              "\n",
              "         [[[0.7366, 0.3441, 0.5340, 0.7714],\n",
              "           [0.6632, 0.6761, 0.8241, 0.4843],\n",
              "           [0.4725, 0.7017, 0.5168, 0.7296]],\n",
              "\n",
              "          [[0.2412, 0.3899, 0.1214, 0.3170],\n",
              "           [0.3485, 0.3715, 0.3025, 0.9232],\n",
              "           [0.3052, 0.0578, 0.7669, 0.7021]],\n",
              "\n",
              "          [[0.9199, 0.9603, 0.6376, 0.9426],\n",
              "           [0.6026, 0.5788, 0.7347, 0.8351],\n",
              "           [0.8027, 0.2402, 0.8764, 0.6760]],\n",
              "\n",
              "          [[0.8851, 0.0132, 0.4776, 0.6815],\n",
              "           [0.6640, 0.3025, 0.9608, 0.0113],\n",
              "           [0.7281, 0.1250, 0.5030, 0.7466]]]]])"
            ]
          },
          "metadata": {},
          "execution_count": 12
        }
      ]
    },
    {
      "cell_type": "code",
      "source": [
        "b.ndim"
      ],
      "metadata": {
        "colab": {
          "base_uri": "https://localhost:8080/"
        },
        "id": "tHpNuhnnHLA1",
        "outputId": "808677d5-3099-4970-9550-6d421bbff688"
      },
      "execution_count": null,
      "outputs": [
        {
          "output_type": "execute_result",
          "data": {
            "text/plain": [
              "5"
            ]
          },
          "metadata": {},
          "execution_count": 8
        }
      ]
    },
    {
      "cell_type": "code",
      "source": [
        "b.size()\n"
      ],
      "metadata": {
        "colab": {
          "base_uri": "https://localhost:8080/"
        },
        "id": "1dMuS8IpHmVd",
        "outputId": "fdb4c940-9832-4aad-ec2d-4a3f4de22d41"
      },
      "execution_count": null,
      "outputs": [
        {
          "output_type": "execute_result",
          "data": {
            "text/plain": [
              "torch.Size([5, 2, 2, 3, 4])"
            ]
          },
          "metadata": {},
          "execution_count": 10
        }
      ]
    },
    {
      "cell_type": "code",
      "source": [
        "b[0]"
      ],
      "metadata": {
        "colab": {
          "base_uri": "https://localhost:8080/"
        },
        "id": "1wDhiPGzHoOu",
        "outputId": "36171054-30d9-4e75-db07-07e534dc32fe"
      },
      "execution_count": null,
      "outputs": [
        {
          "output_type": "execute_result",
          "data": {
            "text/plain": [
              "tensor([[[[0.7169, 0.0738, 0.2639, 0.2192],\n",
              "          [0.1295, 0.7912, 0.6013, 0.1347],\n",
              "          [0.4152, 0.6849, 0.0706, 0.5348]],\n",
              "\n",
              "         [[0.5631, 0.7355, 0.0719, 0.2332],\n",
              "          [0.1197, 0.9386, 0.4001, 0.4720],\n",
              "          [0.9618, 0.4426, 0.4959, 0.1688]]],\n",
              "\n",
              "\n",
              "        [[[0.5889, 0.3479, 0.5713, 0.1198],\n",
              "          [0.2831, 0.6447, 0.8816, 0.6513],\n",
              "          [0.0620, 0.4334, 0.8995, 0.5740]],\n",
              "\n",
              "         [[0.5616, 0.7550, 0.7281, 0.0429],\n",
              "          [0.2157, 0.3416, 0.5378, 0.5551],\n",
              "          [0.5872, 0.4320, 0.9310, 0.7740]]]])"
            ]
          },
          "metadata": {},
          "execution_count": 11
        }
      ]
    },
    {
      "cell_type": "code",
      "source": [
        "b = torch.range(1, 10)"
      ],
      "metadata": {
        "colab": {
          "base_uri": "https://localhost:8080/"
        },
        "id": "m2-NrfdjHtf1",
        "outputId": "0f98cda9-1404-4d57-d26e-083427e45973"
      },
      "execution_count": null,
      "outputs": [
        {
          "output_type": "stream",
          "name": "stderr",
          "text": [
            "<ipython-input-13-be53296fe766>:1: UserWarning: torch.range is deprecated and will be removed in a future release because its behavior is inconsistent with Python's range builtin. Instead, use torch.arange, which produces values in [start, end).\n",
            "  b = torch.range(1, 10)\n"
          ]
        }
      ]
    },
    {
      "cell_type": "code",
      "source": [
        "b"
      ],
      "metadata": {
        "colab": {
          "base_uri": "https://localhost:8080/"
        },
        "id": "5mVOZIXpJSPt",
        "outputId": "af934834-47c5-4d03-e0a7-f2f15f8e5ea0"
      },
      "execution_count": null,
      "outputs": [
        {
          "output_type": "execute_result",
          "data": {
            "text/plain": [
              "tensor([ 1.,  2.,  3.,  4.,  5.,  6.,  7.,  8.,  9., 10.])"
            ]
          },
          "metadata": {},
          "execution_count": 14
        }
      ]
    },
    {
      "cell_type": "code",
      "source": [
        "torch.__version__"
      ],
      "metadata": {
        "colab": {
          "base_uri": "https://localhost:8080/",
          "height": 35
        },
        "id": "LFXEBJsxJUSJ",
        "outputId": "6331f08c-2b38-45c2-956f-bc08c2f5e923"
      },
      "execution_count": null,
      "outputs": [
        {
          "output_type": "execute_result",
          "data": {
            "text/plain": [
              "'2.6.0+cu124'"
            ],
            "application/vnd.google.colaboratory.intrinsic+json": {
              "type": "string"
            }
          },
          "metadata": {},
          "execution_count": 15
        }
      ]
    },
    {
      "cell_type": "code",
      "source": [
        "b = torch.arange(start = 2, end = 17, step =2)\n",
        "b"
      ],
      "metadata": {
        "colab": {
          "base_uri": "https://localhost:8080/"
        },
        "id": "AmQzEXTuJY52",
        "outputId": "92ec3f25-48cf-4d25-eeb5-3e8fa5ce71b9"
      },
      "execution_count": null,
      "outputs": [
        {
          "output_type": "execute_result",
          "data": {
            "text/plain": [
              "tensor([ 2,  4,  6,  8, 10, 12, 14, 16])"
            ]
          },
          "metadata": {},
          "execution_count": 20
        }
      ]
    },
    {
      "cell_type": "code",
      "source": [],
      "metadata": {
        "id": "4BpSD5EtL_5y"
      },
      "execution_count": null,
      "outputs": []
    },
    {
      "cell_type": "code",
      "source": [
        "c = torch.rand(size=(2,3), dtype= torch.float16)\n",
        "c"
      ],
      "metadata": {
        "colab": {
          "base_uri": "https://localhost:8080/"
        },
        "id": "G6sbwuhLJiI_",
        "outputId": "69b0b103-170d-4f35-d676-a499c229f28c"
      },
      "execution_count": null,
      "outputs": [
        {
          "output_type": "execute_result",
          "data": {
            "text/plain": [
              "tensor([[0.1685, 0.0122, 0.1660],\n",
              "        [0.8740, 0.2007, 0.9902]], dtype=torch.float16)"
            ]
          },
          "metadata": {},
          "execution_count": 33
        }
      ]
    },
    {
      "cell_type": "code",
      "source": [
        "c = torch.randint(high = 30, size=(2,3), dtype= torch.int32)\n",
        "c"
      ],
      "metadata": {
        "colab": {
          "base_uri": "https://localhost:8080/"
        },
        "id": "wPnrCUF6Lj56",
        "outputId": "c307a56f-24c1-4874-c692-26aa76ad738a"
      },
      "execution_count": null,
      "outputs": [
        {
          "output_type": "execute_result",
          "data": {
            "text/plain": [
              "tensor([[19,  9, 18],\n",
              "        [18, 22, 13]], dtype=torch.int32)"
            ]
          },
          "metadata": {},
          "execution_count": 37
        }
      ]
    },
    {
      "cell_type": "code",
      "source": [
        "c.device"
      ],
      "metadata": {
        "colab": {
          "base_uri": "https://localhost:8080/"
        },
        "id": "RE0-Qus7MWJ3",
        "outputId": "48053d13-25fa-49f9-a586-62ef4aba734f"
      },
      "execution_count": null,
      "outputs": [
        {
          "output_type": "execute_result",
          "data": {
            "text/plain": [
              "device(type='cpu')"
            ]
          },
          "metadata": {},
          "execution_count": 38
        }
      ]
    },
    {
      "cell_type": "code",
      "source": [
        "torch.cuda.is_available()"
      ],
      "metadata": {
        "colab": {
          "base_uri": "https://localhost:8080/"
        },
        "id": "g2mNi5DuNKde",
        "outputId": "e4d73e22-fcd8-48d8-aa33-34fc33401ef3"
      },
      "execution_count": null,
      "outputs": [
        {
          "output_type": "execute_result",
          "data": {
            "text/plain": [
              "True"
            ]
          },
          "metadata": {},
          "execution_count": 39
        }
      ]
    },
    {
      "cell_type": "code",
      "source": [
        "a = torch.tensor([[1,2,3],\n",
        "                 [2,3,4]]\n",
        "                  )\n",
        "a"
      ],
      "metadata": {
        "colab": {
          "base_uri": "https://localhost:8080/"
        },
        "id": "H7i875aNPqcU",
        "outputId": "e4f409fd-b918-425a-a6f2-b5057efa5ead"
      },
      "execution_count": null,
      "outputs": [
        {
          "output_type": "execute_result",
          "data": {
            "text/plain": [
              "tensor([[1, 2, 3],\n",
              "        [2, 3, 4]])"
            ]
          },
          "metadata": {},
          "execution_count": 49
        }
      ]
    },
    {
      "cell_type": "code",
      "source": [
        "a.shape"
      ],
      "metadata": {
        "colab": {
          "base_uri": "https://localhost:8080/"
        },
        "id": "J9ASsuq4Qt-x",
        "outputId": "84a4a595-44db-4a27-f369-ebaecfc16e98"
      },
      "execution_count": null,
      "outputs": [
        {
          "output_type": "execute_result",
          "data": {
            "text/plain": [
              "torch.Size([2, 3])"
            ]
          },
          "metadata": {},
          "execution_count": 59
        }
      ]
    },
    {
      "cell_type": "code",
      "source": [
        "b = torch.tensor([[4,5],\n",
        "                 [6,7],\n",
        "                  [8,9]])"
      ],
      "metadata": {
        "id": "FkVHf-gWP0BR"
      },
      "execution_count": null,
      "outputs": []
    },
    {
      "cell_type": "code",
      "source": [
        "b.shape"
      ],
      "metadata": {
        "colab": {
          "base_uri": "https://localhost:8080/"
        },
        "id": "KQ1o_mFcQwuq",
        "outputId": "6ce2d4ff-7000-43f9-dbb9-8dbdc02099c8"
      },
      "execution_count": null,
      "outputs": [
        {
          "output_type": "execute_result",
          "data": {
            "text/plain": [
              "torch.Size([3, 2])"
            ]
          },
          "metadata": {},
          "execution_count": 60
        }
      ]
    },
    {
      "cell_type": "code",
      "source": [
        "c = torch.matmul(a, b)\n",
        "c"
      ],
      "metadata": {
        "colab": {
          "base_uri": "https://localhost:8080/"
        },
        "id": "UX6VA6xzP3jc",
        "outputId": "77d67128-594b-4af0-8a7a-34f3f3ce40a3"
      },
      "execution_count": null,
      "outputs": [
        {
          "output_type": "execute_result",
          "data": {
            "text/plain": [
              "tensor([[40, 46],\n",
              "        [58, 67]])"
            ]
          },
          "metadata": {},
          "execution_count": 58
        }
      ]
    },
    {
      "cell_type": "code",
      "source": [
        "a"
      ],
      "metadata": {
        "colab": {
          "base_uri": "https://localhost:8080/"
        },
        "id": "wBglvm8SP9AM",
        "outputId": "2b5893bd-bd24-4895-8602-18ce18bccde5"
      },
      "execution_count": null,
      "outputs": [
        {
          "output_type": "execute_result",
          "data": {
            "text/plain": [
              "tensor([[1, 2, 3],\n",
              "        [2, 3, 4]])"
            ]
          },
          "metadata": {},
          "execution_count": 61
        }
      ]
    },
    {
      "cell_type": "code",
      "source": [
        "a.T"
      ],
      "metadata": {
        "colab": {
          "base_uri": "https://localhost:8080/"
        },
        "id": "2zG5_N7dRvva",
        "outputId": "b49e3882-b60e-42ff-a4b6-81b17e09ad67"
      },
      "execution_count": null,
      "outputs": [
        {
          "output_type": "execute_result",
          "data": {
            "text/plain": [
              "tensor([[1, 2],\n",
              "        [2, 3],\n",
              "        [3, 4]])"
            ]
          },
          "metadata": {},
          "execution_count": 62
        }
      ]
    },
    {
      "cell_type": "code",
      "source": [
        "a"
      ],
      "metadata": {
        "colab": {
          "base_uri": "https://localhost:8080/"
        },
        "id": "iqgH41a4RyDm",
        "outputId": "3399828f-0163-42f0-fc88-53a60b982ac5"
      },
      "execution_count": null,
      "outputs": [
        {
          "output_type": "execute_result",
          "data": {
            "text/plain": [
              "tensor([[1, 2, 3],\n",
              "        [2, 3, 4]])"
            ]
          },
          "metadata": {},
          "execution_count": 63
        }
      ]
    },
    {
      "cell_type": "code",
      "source": [
        "b = a.type(torch.float32)"
      ],
      "metadata": {
        "id": "w2LB8N4eSudo"
      },
      "execution_count": null,
      "outputs": []
    },
    {
      "cell_type": "code",
      "source": [
        "b.type(torch.float32).mean().type(torch.int32).item()"
      ],
      "metadata": {
        "colab": {
          "base_uri": "https://localhost:8080/"
        },
        "id": "ZAl9PfWsS0go",
        "outputId": "124e990b-4bb3-4257-92b1-38f2a7cdeb0d"
      },
      "execution_count": null,
      "outputs": [
        {
          "output_type": "execute_result",
          "data": {
            "text/plain": [
              "2"
            ]
          },
          "metadata": {},
          "execution_count": 72
        }
      ]
    },
    {
      "cell_type": "code",
      "source": [
        "a"
      ],
      "metadata": {
        "colab": {
          "base_uri": "https://localhost:8080/"
        },
        "id": "0UCBMBG2S1Xl",
        "outputId": "eb3986f7-a8cf-4a01-a0c3-c26c7c3fc95e"
      },
      "execution_count": null,
      "outputs": [
        {
          "output_type": "execute_result",
          "data": {
            "text/plain": [
              "tensor([[1, 2, 3],\n",
              "        [2, 3, 4]])"
            ]
          },
          "metadata": {},
          "execution_count": 73
        }
      ]
    },
    {
      "cell_type": "code",
      "source": [
        "a.argmax()"
      ],
      "metadata": {
        "colab": {
          "base_uri": "https://localhost:8080/"
        },
        "id": "UnkAL8R7Tjj3",
        "outputId": "d1685144-91c5-468d-f19a-b311f930dd1a"
      },
      "execution_count": null,
      "outputs": [
        {
          "output_type": "execute_result",
          "data": {
            "text/plain": [
              "tensor(5)"
            ]
          },
          "metadata": {},
          "execution_count": 75
        }
      ]
    },
    {
      "cell_type": "code",
      "source": [
        "a"
      ],
      "metadata": {
        "colab": {
          "base_uri": "https://localhost:8080/"
        },
        "id": "_mpaCno7TmbO",
        "outputId": "8d03afa5-9d64-406b-df52-26833c2e68fd"
      },
      "execution_count": null,
      "outputs": [
        {
          "output_type": "execute_result",
          "data": {
            "text/plain": [
              "tensor([[1, 2, 3],\n",
              "        [2, 3, 4]])"
            ]
          },
          "metadata": {},
          "execution_count": 76
        }
      ]
    },
    {
      "cell_type": "code",
      "source": [
        "a.reshape(6, 1)"
      ],
      "metadata": {
        "colab": {
          "base_uri": "https://localhost:8080/"
        },
        "id": "5G-tMe-zZeZe",
        "outputId": "7c616b48-82c3-4198-eaac-6bc3f7dfed96"
      },
      "execution_count": null,
      "outputs": [
        {
          "output_type": "execute_result",
          "data": {
            "text/plain": [
              "tensor([[1],\n",
              "        [2],\n",
              "        [3],\n",
              "        [2],\n",
              "        [3],\n",
              "        [4]])"
            ]
          },
          "metadata": {},
          "execution_count": 85
        }
      ]
    },
    {
      "cell_type": "code",
      "source": [
        "a"
      ],
      "metadata": {
        "colab": {
          "base_uri": "https://localhost:8080/"
        },
        "id": "KtKrwAF2Zg_b",
        "outputId": "a43d24a5-ca73-4d8f-b0f1-09995d37b1a3"
      },
      "execution_count": null,
      "outputs": [
        {
          "output_type": "execute_result",
          "data": {
            "text/plain": [
              "tensor([[1, 2, 3],\n",
              "        [2, 3, 4]])"
            ]
          },
          "metadata": {},
          "execution_count": 86
        }
      ]
    },
    {
      "cell_type": "code",
      "source": [
        "b = a.view(1, 6).squeeze()\n",
        "b"
      ],
      "metadata": {
        "colab": {
          "base_uri": "https://localhost:8080/"
        },
        "id": "D_efrssBalws",
        "outputId": "21479481-6107-42e8-926f-e9268465e66b"
      },
      "execution_count": null,
      "outputs": [
        {
          "output_type": "execute_result",
          "data": {
            "text/plain": [
              "tensor([1, 2, 3, 2, 3, 4])"
            ]
          },
          "metadata": {},
          "execution_count": 94
        }
      ]
    },
    {
      "cell_type": "code",
      "source": [
        "torch.stack([b, b ] , dim = 1)"
      ],
      "metadata": {
        "colab": {
          "base_uri": "https://localhost:8080/"
        },
        "id": "AW7V6wupaY9n",
        "outputId": "ff0c73ec-f31f-4af3-e00f-49f76329da8d"
      },
      "execution_count": null,
      "outputs": [
        {
          "output_type": "execute_result",
          "data": {
            "text/plain": [
              "tensor([[1, 1],\n",
              "        [2, 2],\n",
              "        [3, 3],\n",
              "        [2, 2],\n",
              "        [3, 3],\n",
              "        [4, 4]])"
            ]
          },
          "metadata": {},
          "execution_count": 103
        }
      ]
    },
    {
      "cell_type": "code",
      "source": [
        "torch.vstack([b, b])"
      ],
      "metadata": {
        "colab": {
          "base_uri": "https://localhost:8080/"
        },
        "id": "oGrri6_kacEB",
        "outputId": "469fdb23-40c7-4daa-dc59-19ce9ee59723"
      },
      "execution_count": null,
      "outputs": [
        {
          "output_type": "execute_result",
          "data": {
            "text/plain": [
              "tensor([[1, 2, 3, 2, 3, 4],\n",
              "        [1, 2, 3, 2, 3, 4]])"
            ]
          },
          "metadata": {},
          "execution_count": 102
        }
      ]
    },
    {
      "cell_type": "code",
      "source": [
        "x = torch.zeros(2,1,3,4,2)\n",
        "x"
      ],
      "metadata": {
        "colab": {
          "base_uri": "https://localhost:8080/"
        },
        "id": "XGxXdu70bDTv",
        "outputId": "ec4e635c-03fa-483e-a045-b9814b34cc00"
      },
      "execution_count": null,
      "outputs": [
        {
          "output_type": "execute_result",
          "data": {
            "text/plain": [
              "tensor([[[[[0., 0.],\n",
              "           [0., 0.],\n",
              "           [0., 0.],\n",
              "           [0., 0.]],\n",
              "\n",
              "          [[0., 0.],\n",
              "           [0., 0.],\n",
              "           [0., 0.],\n",
              "           [0., 0.]],\n",
              "\n",
              "          [[0., 0.],\n",
              "           [0., 0.],\n",
              "           [0., 0.],\n",
              "           [0., 0.]]]],\n",
              "\n",
              "\n",
              "\n",
              "        [[[[0., 0.],\n",
              "           [0., 0.],\n",
              "           [0., 0.],\n",
              "           [0., 0.]],\n",
              "\n",
              "          [[0., 0.],\n",
              "           [0., 0.],\n",
              "           [0., 0.],\n",
              "           [0., 0.]],\n",
              "\n",
              "          [[0., 0.],\n",
              "           [0., 0.],\n",
              "           [0., 0.],\n",
              "           [0., 0.]]]]])"
            ]
          },
          "metadata": {},
          "execution_count": 104
        }
      ]
    },
    {
      "cell_type": "code",
      "source": [
        "x.unsqueeze(dim = 1)"
      ],
      "metadata": {
        "colab": {
          "base_uri": "https://localhost:8080/"
        },
        "id": "Apt_9TYObpex",
        "outputId": "3a4d435a-c559-41cf-eff8-a0a2ee218021"
      },
      "execution_count": null,
      "outputs": [
        {
          "output_type": "execute_result",
          "data": {
            "text/plain": [
              "tensor([[[[[[0., 0.],\n",
              "            [0., 0.],\n",
              "            [0., 0.],\n",
              "            [0., 0.]],\n",
              "\n",
              "           [[0., 0.],\n",
              "            [0., 0.],\n",
              "            [0., 0.],\n",
              "            [0., 0.]],\n",
              "\n",
              "           [[0., 0.],\n",
              "            [0., 0.],\n",
              "            [0., 0.],\n",
              "            [0., 0.]]]]],\n",
              "\n",
              "\n",
              "\n",
              "\n",
              "        [[[[[0., 0.],\n",
              "            [0., 0.],\n",
              "            [0., 0.],\n",
              "            [0., 0.]],\n",
              "\n",
              "           [[0., 0.],\n",
              "            [0., 0.],\n",
              "            [0., 0.],\n",
              "            [0., 0.]],\n",
              "\n",
              "           [[0., 0.],\n",
              "            [0., 0.],\n",
              "            [0., 0.],\n",
              "            [0., 0.]]]]]])"
            ]
          },
          "metadata": {},
          "execution_count": 107
        }
      ]
    },
    {
      "cell_type": "code",
      "source": [
        "a"
      ],
      "metadata": {
        "colab": {
          "base_uri": "https://localhost:8080/"
        },
        "id": "4CR-fMhsbvNC",
        "outputId": "e4bca167-c5f1-4092-83d1-f52186b5dd42"
      },
      "execution_count": null,
      "outputs": [
        {
          "output_type": "execute_result",
          "data": {
            "text/plain": [
              "tensor([[1, 2, 3],\n",
              "        [2, 3, 4]])"
            ]
          },
          "metadata": {},
          "execution_count": 108
        }
      ]
    },
    {
      "cell_type": "code",
      "source": [
        "z = torch.rand(2,3,4)\n",
        "z"
      ],
      "metadata": {
        "colab": {
          "base_uri": "https://localhost:8080/"
        },
        "id": "Aqp2TzKtd9tz",
        "outputId": "278362e2-76f1-4820-e3a9-34bdc13c5f53"
      },
      "execution_count": null,
      "outputs": [
        {
          "output_type": "execute_result",
          "data": {
            "text/plain": [
              "tensor([[[0.2047, 0.6510, 0.2767, 0.1891],\n",
              "         [0.4684, 0.4869, 0.3209, 0.7512],\n",
              "         [0.0796, 0.8291, 0.5708, 0.2104]],\n",
              "\n",
              "        [[0.9595, 0.3941, 0.5290, 0.6932],\n",
              "         [0.2443, 0.0461, 0.1048, 0.3559],\n",
              "         [0.9868, 0.0322, 0.9163, 0.8602]]])"
            ]
          },
          "metadata": {},
          "execution_count": 110
        }
      ]
    },
    {
      "cell_type": "code",
      "source": [
        "z[0][1]"
      ],
      "metadata": {
        "colab": {
          "base_uri": "https://localhost:8080/"
        },
        "id": "5I_X1ikJeHB7",
        "outputId": "eed95fe0-d219-4689-e2b9-6016226204f3"
      },
      "execution_count": null,
      "outputs": [
        {
          "output_type": "execute_result",
          "data": {
            "text/plain": [
              "tensor([0.4684, 0.4869, 0.3209, 0.7512])"
            ]
          },
          "metadata": {},
          "execution_count": 112
        }
      ]
    },
    {
      "cell_type": "code",
      "source": [
        "z[:,1,0]"
      ],
      "metadata": {
        "colab": {
          "base_uri": "https://localhost:8080/"
        },
        "id": "mh2sEgKAeL89",
        "outputId": "a85e023a-948b-4f14-91e0-0b9bdba4c3a3"
      },
      "execution_count": null,
      "outputs": [
        {
          "output_type": "execute_result",
          "data": {
            "text/plain": [
              "tensor([0.4684, 0.2443])"
            ]
          },
          "metadata": {},
          "execution_count": 115
        }
      ]
    },
    {
      "cell_type": "code",
      "source": [
        "z[:,:,2].T"
      ],
      "metadata": {
        "colab": {
          "base_uri": "https://localhost:8080/"
        },
        "id": "iFHjviUteQHK",
        "outputId": "a27a9f93-2304-4cb0-faf9-3e859a8f9f7a"
      },
      "execution_count": null,
      "outputs": [
        {
          "output_type": "execute_result",
          "data": {
            "text/plain": [
              "tensor([[0.2767, 0.5290],\n",
              "        [0.3209, 0.1048],\n",
              "        [0.5708, 0.9163]])"
            ]
          },
          "metadata": {},
          "execution_count": 123
        }
      ]
    },
    {
      "cell_type": "code",
      "source": [
        "z"
      ],
      "metadata": {
        "colab": {
          "base_uri": "https://localhost:8080/"
        },
        "id": "G7pA2tUxegv3",
        "outputId": "c40d9475-78ee-410e-8a7f-431f9d1661ba"
      },
      "execution_count": null,
      "outputs": [
        {
          "output_type": "execute_result",
          "data": {
            "text/plain": [
              "tensor([[[0.2047, 0.6510, 0.2767, 0.1891],\n",
              "         [0.4684, 0.4869, 0.3209, 0.7512],\n",
              "         [0.0796, 0.8291, 0.5708, 0.2104]],\n",
              "\n",
              "        [[0.9595, 0.3941, 0.5290, 0.6932],\n",
              "         [0.2443, 0.0461, 0.1048, 0.3559],\n",
              "         [0.9868, 0.0322, 0.9163, 0.8602]]])"
            ]
          },
          "metadata": {},
          "execution_count": 126
        }
      ]
    },
    {
      "cell_type": "code",
      "source": [
        "z[:][:][1]"
      ],
      "metadata": {
        "colab": {
          "base_uri": "https://localhost:8080/",
          "height": 144
        },
        "id": "wXjgSNc-fvPD",
        "outputId": "f0f6cf37-d2b6-47ec-c645-f4f9f0f72da2"
      },
      "execution_count": null,
      "outputs": [
        {
          "output_type": "error",
          "ename": "IndexError",
          "evalue": "index 2 is out of bounds for dimension 0 with size 2",
          "traceback": [
            "\u001b[0;31m---------------------------------------------------------------------------\u001b[0m",
            "\u001b[0;31mIndexError\u001b[0m                                Traceback (most recent call last)",
            "\u001b[0;32m<ipython-input-131-468e62b483a2>\u001b[0m in \u001b[0;36m<cell line: 0>\u001b[0;34m()\u001b[0m\n\u001b[0;32m----> 1\u001b[0;31m \u001b[0mz\u001b[0m\u001b[0;34m[\u001b[0m\u001b[0;34m:\u001b[0m\u001b[0;34m]\u001b[0m\u001b[0;34m[\u001b[0m\u001b[0;34m:\u001b[0m\u001b[0;34m]\u001b[0m\u001b[0;34m[\u001b[0m\u001b[0;36m2\u001b[0m\u001b[0;34m]\u001b[0m\u001b[0;34m\u001b[0m\u001b[0;34m\u001b[0m\u001b[0m\n\u001b[0m",
            "\u001b[0;31mIndexError\u001b[0m: index 2 is out of bounds for dimension 0 with size 2"
          ]
        }
      ]
    },
    {
      "cell_type": "code",
      "source": [
        "import numpy as np\n",
        "import torch"
      ],
      "metadata": {
        "id": "U3n21CudjvzI"
      },
      "execution_count": null,
      "outputs": []
    },
    {
      "cell_type": "code",
      "source": [
        "d = np.arange(1, 10.0, dtype = np.int32)\n",
        "d"
      ],
      "metadata": {
        "colab": {
          "base_uri": "https://localhost:8080/"
        },
        "id": "UQeh-MGAnLyt",
        "outputId": "7e8d2c27-c857-493c-9bfb-4e2406f3b44a"
      },
      "execution_count": null,
      "outputs": [
        {
          "output_type": "execute_result",
          "data": {
            "text/plain": [
              "array([1, 2, 3, 4, 5, 6, 7, 8, 9], dtype=int32)"
            ]
          },
          "metadata": {},
          "execution_count": 142
        }
      ]
    },
    {
      "cell_type": "code",
      "source": [
        "d.dtype"
      ],
      "metadata": {
        "colab": {
          "base_uri": "https://localhost:8080/"
        },
        "id": "lh2huns1nQqU",
        "outputId": "6f0e7954-4a39-4d0c-9fcd-f41f5fba2b34"
      },
      "execution_count": null,
      "outputs": [
        {
          "output_type": "execute_result",
          "data": {
            "text/plain": [
              "dtype('int32')"
            ]
          },
          "metadata": {},
          "execution_count": 143
        }
      ]
    },
    {
      "cell_type": "code",
      "source": [
        "e = torch.from_numpy(d)\n",
        "e"
      ],
      "metadata": {
        "colab": {
          "base_uri": "https://localhost:8080/"
        },
        "id": "QkCx1GivnUuy",
        "outputId": "883bda5e-0a16-47b9-ee1d-781a2da17412"
      },
      "execution_count": null,
      "outputs": [
        {
          "output_type": "execute_result",
          "data": {
            "text/plain": [
              "tensor([1, 2, 3, 4, 5, 6, 7, 8, 9], dtype=torch.int32)"
            ]
          },
          "metadata": {},
          "execution_count": 144
        }
      ]
    },
    {
      "cell_type": "code",
      "source": [
        "e.dtype"
      ],
      "metadata": {
        "colab": {
          "base_uri": "https://localhost:8080/"
        },
        "id": "b26Fwzp3nulX",
        "outputId": "3158c056-3ec6-42cb-d421-6f957824b601"
      },
      "execution_count": null,
      "outputs": [
        {
          "output_type": "execute_result",
          "data": {
            "text/plain": [
              "torch.int32"
            ]
          },
          "metadata": {},
          "execution_count": 145
        }
      ]
    },
    {
      "cell_type": "code",
      "source": [
        "f = e.numpy()\n",
        "f"
      ],
      "metadata": {
        "colab": {
          "base_uri": "https://localhost:8080/"
        },
        "id": "itvaZsExnxxK",
        "outputId": "9c62794f-e4b8-4459-dcdd-3c964d3df59e"
      },
      "execution_count": null,
      "outputs": [
        {
          "output_type": "execute_result",
          "data": {
            "text/plain": [
              "array([1, 2, 3, 4, 5, 6, 7, 8, 9], dtype=int32)"
            ]
          },
          "metadata": {},
          "execution_count": 146
        }
      ]
    },
    {
      "cell_type": "code",
      "source": [
        "device = 'cuda' if torch.cuda.is_available() else 'cpu'\n",
        "device"
      ],
      "metadata": {
        "colab": {
          "base_uri": "https://localhost:8080/",
          "height": 35
        },
        "id": "bWbt7VaJn6Or",
        "outputId": "71e8f78e-b6b8-40e6-d4f8-4926838e042c"
      },
      "execution_count": null,
      "outputs": [
        {
          "output_type": "execute_result",
          "data": {
            "text/plain": [
              "'cpu'"
            ],
            "application/vnd.google.colaboratory.intrinsic+json": {
              "type": "string"
            }
          },
          "metadata": {},
          "execution_count": 3
        }
      ]
    },
    {
      "cell_type": "code",
      "source": [
        "torch.cuda.device_count()"
      ],
      "metadata": {
        "colab": {
          "base_uri": "https://localhost:8080/"
        },
        "id": "DEv5iq792iMj",
        "outputId": "6f1fb827-769b-4f6e-e2fd-f46b2410776c"
      },
      "execution_count": null,
      "outputs": [
        {
          "output_type": "execute_result",
          "data": {
            "text/plain": [
              "0"
            ]
          },
          "metadata": {},
          "execution_count": 4
        }
      ]
    },
    {
      "cell_type": "code",
      "source": [],
      "metadata": {
        "id": "l2Slemss2v5O"
      },
      "execution_count": null,
      "outputs": []
    }
  ]
}