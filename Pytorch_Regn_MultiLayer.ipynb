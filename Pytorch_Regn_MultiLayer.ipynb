{
  "nbformat": 4,
  "nbformat_minor": 0,
  "metadata": {
    "colab": {
      "provenance": [],
      "gpuType": "T4",
      "authorship_tag": "ABX9TyNhE7IxLUpFUnb6htNJqbAo",
      "include_colab_link": true
    },
    "kernelspec": {
      "name": "python3",
      "display_name": "Python 3"
    },
    "language_info": {
      "name": "python"
    },
    "accelerator": "GPU"
  },
  "cells": [
    {
      "cell_type": "markdown",
      "metadata": {
        "id": "view-in-github",
        "colab_type": "text"
      },
      "source": [
        "<a href=\"https://colab.research.google.com/github/atrikhs/Pytorch/blob/main/Pytorch_Regn_MultiLayer.ipynb\" target=\"_parent\"><img src=\"https://colab.research.google.com/assets/colab-badge.svg\" alt=\"Open In Colab\"/></a>"
      ]
    },
    {
      "cell_type": "code",
      "execution_count": 1,
      "metadata": {
        "id": "LFVOuKtldj7c"
      },
      "outputs": [],
      "source": [
        "import torch\n",
        "import numpy as np\n",
        "import matplotlib.pyplot as plt\n",
        "from torch import nn\n",
        "from sklearn.model_selection import train_test_split\n",
        "import pandas as pd\n",
        "from sklearn.preprocessing import StandardScaler\n",
        "\n",
        "# Define model\n",
        "class LinearRegV3(nn.Module):\n",
        "    def __init__(self):\n",
        "        super().__init__()\n",
        "        self.linear_layer1 = nn.Linear(in_features=3, out_features=8)\n",
        "        self.linear_layer2 = nn.Linear(in_features=8, out_features=1)\n",
        "\n",
        "    def forward(self, x: torch.Tensor) -> torch.Tensor:\n",
        "        return self.linear_layer2(self.linear_layer1(x))\n",
        "\n",
        "# Data generation\n",
        "np.random.seed(42)\n",
        "X1 = np.random.randn(10000)\n",
        "X2 = np.random.randn(10000)\n",
        "X3 = np.random.randn(10000)\n",
        "\n",
        "w1, w2, w3, b = 23, 15, 31, 97\n",
        "y = w1 * X1 + w2 * X2 + w3 * X3 + b\n",
        "X = pd.DataFrame({'X1': X1, 'X2': X2, 'X3': X3})\n",
        "\n",
        "# Train/test split\n",
        "X_train, X_test, y_train, y_test = train_test_split(X, y, test_size=0.2, random_state=42)\n",
        "\n",
        "# Normalize features\n",
        "scaler = StandardScaler()\n",
        "X_train = scaler.fit_transform(X_train)\n",
        "X_test = scaler.transform(X_test)\n",
        "\n",
        "# Convert to PyTorch tensors\n",
        "X_train = torch.from_numpy(X_train.astype(np.float32))\n",
        "y_train = torch.from_numpy(y_train.astype(np.float32)).unsqueeze(1)\n",
        "X_test = torch.from_numpy(X_test.astype(np.float32))\n",
        "y_test = torch.from_numpy(y_test.astype(np.float32)).unsqueeze(1)\n",
        "\n",
        "# Device setup\n",
        "device = 'cuda' if torch.cuda.is_available() else 'cpu'\n",
        "\n",
        "# Model, loss, optimizer\n",
        "torch.manual_seed(42)\n",
        "model1 = LinearRegV3().to(device)\n",
        "loss_fn = nn.MSELoss()\n",
        "# optimizer = torch.optim.SGD(model1.parameters(), lr=0.01)\n",
        "optimizer = torch.optim.SGD(model1.parameters(), lr=0.001)\n",
        "\n",
        "\n",
        "# Move data to device\n",
        "X_train = X_train.to(device)\n",
        "y_train = y_train.to(device)\n",
        "X_test = X_test.to(device)\n",
        "y_test = y_test.to(device)\n"
      ]
    },
    {
      "cell_type": "code",
      "source": [
        "\n",
        "# Training loop\n",
        "epochs = 300\n",
        "losses = []\n",
        "\n",
        "for epoch in range(epochs):\n",
        "    model1.train()\n",
        "    y_pred = model1(X_train)\n",
        "    loss = loss_fn(y_pred, y_train)\n",
        "    losses.append(loss.item())\n",
        "\n",
        "    optimizer.zero_grad()\n",
        "    loss.backward()\n",
        "    optimizer.step()\n",
        "\n",
        "    if (epoch + 1) % 100 == 0:\n",
        "        print(f\"Epoch [{epoch+1}/{epochs}], Loss: {loss.item():.4f}\")\n",
        "\n",
        "# Evaluation\n",
        "model1.eval()\n",
        "with torch.no_grad():\n",
        "    y_test_pred = model1(X_test)\n",
        "    test_loss = loss_fn(y_test_pred, y_test)\n",
        "    print(f\"Test MSE Loss: {test_loss.item():.4f}\")\n",
        "\n",
        "# Plot loss curve\n",
        "plt.plot(losses)\n",
        "plt.title(\"Training Loss Curve\")\n",
        "plt.xlabel(\"Epoch\")\n",
        "plt.ylabel(\"MSE Loss\")\n",
        "plt.grid(True)\n",
        "plt.show()\n"
      ],
      "metadata": {
        "colab": {
          "base_uri": "https://localhost:8080/",
          "height": 543
        },
        "id": "laETHYPYd4C7",
        "outputId": "63e1a6bf-996e-4a23-d411-ce0d754c79ed"
      },
      "execution_count": 2,
      "outputs": [
        {
          "output_type": "stream",
          "name": "stdout",
          "text": [
            "Epoch [100/300], Loss: 0.0000\n",
            "Epoch [200/300], Loss: 0.0000\n",
            "Epoch [300/300], Loss: 0.0000\n",
            "Test MSE Loss: 0.0000\n"
          ]
        },
        {
          "output_type": "display_data",
          "data": {
            "text/plain": [
              "<Figure size 640x480 with 1 Axes>"
            ],
            "image/png": "[encoded data removed]"
          },
          "metadata": {}
        }
      ]
    },
    {
      "cell_type": "code",
      "source": [
        "model1.state_dict()"
      ],
      "metadata": {
        "colab": {
          "base_uri": "https://localhost:8080/"
        },
        "id": "zxag_5tYeCwK",
        "outputId": "94dce018-c2d1-46ac-dc34-def5203e2cd1"
      },
      "execution_count": 3,
      "outputs": [
        {
          "output_type": "execute_result",
          "data": {
            "text/plain": [
              "OrderedDict([('linear_layer1.weight',\n",
              "              tensor([[ 0.4583,  0.4894, -0.1231],\n",
              "                      [ 0.4044, -0.2111, -0.0888],\n",
              "                      [-0.6612,  0.0850, -0.0946],\n",
              "                      [-0.6297,  0.3628, -0.2350],\n",
              "                      [ 1.3029,  0.6650,  1.6844],\n",
              "                      [-0.4902,  0.1701, -0.5869],\n",
              "                      [ 0.8859,  0.9209,  1.5882],\n",
              "                      [-1.5230, -1.2088, -1.9491]], device='cuda:0')),\n",
              "             ('linear_layer1.bias',\n",
              "              tensor([-0.3820, -0.7606, -1.6627, -1.1530,  3.5063, -2.1718,  5.0718, -6.2234],\n",
              "                     device='cuda:0')),\n",
              "             ('linear_layer2.weight',\n",
              "              tensor([[-0.1968, -0.6476, -1.6552, -1.1907,  4.1276, -2.2201,  5.4303, -6.7763]],\n",
              "                     device='cuda:0')),\n",
              "             ('linear_layer2.bias', tensor([3.3644], device='cuda:0'))])"
            ]
          },
          "metadata": {},
          "execution_count": 3
        }
      ]
    },
    {
      "cell_type": "code",
      "source": [
        "# w1, w2, w3, b = 23, 15, 31, 97\n",
        "y_test_pred[:5], y_test[:5]"
      ],
      "metadata": {
        "colab": {
          "base_uri": "https://localhost:8080/"
        },
        "id": "sIgfUEIeexeo",
        "outputId": "309497cf-d6ff-4730-c7f0-d5fb4b57feb0"
      },
      "execution_count": 7,
      "outputs": [
        {
          "output_type": "execute_result",
          "data": {
            "text/plain": [
              "(tensor([[209.5277],\n",
              "         [ 95.7081],\n",
              "         [178.8506],\n",
              "         [ 97.4673],\n",
              "         [ 72.0245]], device='cuda:0'),\n",
              " tensor([[209.5277],\n",
              "         [ 95.7081],\n",
              "         [178.8506],\n",
              "         [ 97.4673],\n",
              "         [ 72.0245]], device='cuda:0'))"
            ]
          },
          "metadata": {},
          "execution_count": 7
        }
      ]
    },
    {
      "cell_type": "code",
      "source": [],
      "metadata": {
        "id": "w3yhRk19fWDD"
      },
      "execution_count": null,
      "outputs": []
    }
  ]
}