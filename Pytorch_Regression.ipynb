{
  "nbformat": 4,
  "nbformat_minor": 0,
  "metadata": {
    "colab": {
      "provenance": [],
      "gpuType": "T4",
      "include_colab_link": true
    },
    "kernelspec": {
      "name": "python3",
      "display_name": "Python 3"
    },
    "language_info": {
      "name": "python"
    },
    "accelerator": "GPU"
  },
  "cells": [
    {
      "cell_type": "markdown",
      "metadata": {
        "id": "view-in-github",
        "colab_type": "text"
      },
      "source": [
        "<a href=\"https://colab.research.google.com/github/atrikhs/Pytorch/blob/main/Pytorch_Regression.ipynb\" target=\"_parent\"><img src=\"https://colab.research.google.com/assets/colab-badge.svg\" alt=\"Open In Colab\"/></a>"
      ]
    },
    {
      "cell_type": "code",
      "execution_count": null,
      "metadata": {
        "id": "zh1i6iyJGr9w"
      },
      "outputs": [],
      "source": [
        "import torch"
      ]
    },
    {
      "cell_type": "code",
      "source": [
        "b = torch.rand(5,2,4,3,4)"
      ],
      "metadata": {
        "id": "BhMDsO_NGzuL"
      },
      "execution_count": null,
      "outputs": []
    },
    {
      "cell_type": "code",
      "source": [
        "b.ndim"
      ],
      "metadata": {
        "colab": {
          "base_uri": "https://localhost:8080/"
        },
        "id": "tHpNuhnnHLA1",
        "outputId": "edf8b8d8-9af7-4afe-be7d-2876cbadf162"
      },
      "execution_count": null,
      "outputs": [
        {
          "output_type": "execute_result",
          "data": {
            "text/plain": [
              "5"
            ]
          },
          "metadata": {},
          "execution_count": 3
        }
      ]
    },
    {
      "cell_type": "code",
      "source": [
        "b.size()\n"
      ],
      "metadata": {
        "colab": {
          "base_uri": "https://localhost:8080/"
        },
        "id": "1dMuS8IpHmVd",
        "outputId": "a4252970-0754-42af-e916-e2bca0d6617f"
      },
      "execution_count": null,
      "outputs": [
        {
          "output_type": "execute_result",
          "data": {
            "text/plain": [
              "torch.Size([5, 2, 4, 3, 4])"
            ]
          },
          "metadata": {},
          "execution_count": 4
        }
      ]
    },
    {
      "cell_type": "code",
      "source": [
        "b[0]"
      ],
      "metadata": {
        "colab": {
          "base_uri": "https://localhost:8080/"
        },
        "id": "1wDhiPGzHoOu",
        "outputId": "d536b45f-3d9f-478e-fc8c-f56ad3dd8e58"
      },
      "execution_count": null,
      "outputs": [
        {
          "output_type": "execute_result",
          "data": {
            "text/plain": [
              "tensor([[[[8.4677e-01, 4.7745e-01, 9.0567e-01, 3.6712e-01],\n",
              "          [4.3680e-01, 5.8848e-02, 9.2776e-01, 4.5470e-01],\n",
              "          [8.8140e-01, 9.2566e-01, 6.9360e-01, 8.1091e-01]],\n",
              "\n",
              "         [[4.2348e-01, 2.7255e-01, 7.8199e-01, 4.7892e-01],\n",
              "          [7.1370e-01, 1.4164e-01, 7.8689e-01, 7.9193e-01],\n",
              "          [9.6639e-01, 8.8170e-03, 5.1438e-01, 3.8479e-01]],\n",
              "\n",
              "         [[7.2894e-01, 2.8728e-01, 7.1128e-01, 1.2076e-01],\n",
              "          [9.9794e-01, 2.6707e-02, 1.5063e-01, 1.2039e-01],\n",
              "          [9.4465e-01, 2.6030e-01, 9.3493e-01, 3.2569e-01]],\n",
              "\n",
              "         [[1.3029e-01, 2.2649e-01, 4.6564e-01, 8.8152e-01],\n",
              "          [9.7248e-01, 9.1948e-01, 3.1015e-01, 8.8526e-01],\n",
              "          [1.9308e-01, 6.2612e-01, 3.3343e-01, 1.9132e-01]]],\n",
              "\n",
              "\n",
              "        [[[3.8526e-01, 7.6221e-01, 1.9892e-01, 1.8902e-01],\n",
              "          [3.1238e-01, 3.9083e-02, 6.2879e-01, 1.3351e-01],\n",
              "          [9.9242e-01, 3.6832e-01, 2.6463e-01, 3.9077e-01]],\n",
              "\n",
              "         [[2.6562e-01, 7.3829e-01, 8.2900e-01, 7.6041e-01],\n",
              "          [6.6300e-01, 5.1872e-01, 2.7049e-01, 8.9420e-01],\n",
              "          [2.2400e-01, 2.8174e-01, 1.8519e-01, 8.8715e-02]],\n",
              "\n",
              "         [[9.2973e-02, 2.1818e-01, 3.7027e-01, 8.8048e-01],\n",
              "          [5.8066e-01, 6.8409e-01, 7.9623e-01, 1.7410e-01],\n",
              "          [9.2599e-02, 4.7183e-01, 6.5553e-04, 2.1515e-01]],\n",
              "\n",
              "         [[9.3099e-01, 2.7317e-01, 7.4227e-01, 2.0680e-01],\n",
              "          [9.2425e-02, 2.1638e-01, 8.0647e-01, 5.7825e-01],\n",
              "          [7.3879e-01, 3.9134e-01, 6.9466e-01, 4.5755e-01]]]])"
            ]
          },
          "metadata": {},
          "execution_count": 5
        }
      ]
    },
    {
      "cell_type": "code",
      "source": [
        "b = torch.range(1, 10)"
      ],
      "metadata": {
        "colab": {
          "base_uri": "https://localhost:8080/"
        },
        "id": "m2-NrfdjHtf1",
        "outputId": "099a3b75-6309-4399-fecc-788de1830ef4"
      },
      "execution_count": null,
      "outputs": [
        {
          "output_type": "stream",
          "name": "stderr",
          "text": [
            "<ipython-input-6-be53296fe766>:1: UserWarning: torch.range is deprecated and will be removed in a future release because its behavior is inconsistent with Python's range builtin. Instead, use torch.arange, which produces values in [start, end).\n",
            "  b = torch.range(1, 10)\n"
          ]
        }
      ]
    },
    {
      "cell_type": "code",
      "source": [
        "b"
      ],
      "metadata": {
        "colab": {
          "base_uri": "https://localhost:8080/"
        },
        "id": "5mVOZIXpJSPt",
        "outputId": "3908b43a-e765-42bd-a7f9-bf7460917e6e"
      },
      "execution_count": null,
      "outputs": [
        {
          "output_type": "execute_result",
          "data": {
            "text/plain": [
              "tensor([ 1.,  2.,  3.,  4.,  5.,  6.,  7.,  8.,  9., 10.])"
            ]
          },
          "metadata": {},
          "execution_count": 7
        }
      ]
    },
    {
      "cell_type": "code",
      "source": [
        "torch.__version__"
      ],
      "metadata": {
        "colab": {
          "base_uri": "https://localhost:8080/",
          "height": 35
        },
        "id": "LFXEBJsxJUSJ",
        "outputId": "f3aeb5d4-5a8c-4139-a2fd-858e303af708"
      },
      "execution_count": null,
      "outputs": [
        {
          "output_type": "execute_result",
          "data": {
            "text/plain": [
              "'2.6.0+cu124'"
            ],
            "application/vnd.google.colaboratory.intrinsic+json": {
              "type": "string"
            }
          },
          "metadata": {},
          "execution_count": 8
        }
      ]
    },
    {
      "cell_type": "code",
      "source": [
        "b = torch.arange(start = 2, end = 17, step =2)\n",
        "b"
      ],
      "metadata": {
        "colab": {
          "base_uri": "https://localhost:8080/"
        },
        "id": "AmQzEXTuJY52",
        "outputId": "86eb3cda-e93a-46d9-f32f-6eccea5f081f"
      },
      "execution_count": null,
      "outputs": [
        {
          "output_type": "execute_result",
          "data": {
            "text/plain": [
              "tensor([ 2,  4,  6,  8, 10, 12, 14, 16])"
            ]
          },
          "metadata": {},
          "execution_count": 9
        }
      ]
    },
    {
      "cell_type": "code",
      "source": [],
      "metadata": {
        "id": "4BpSD5EtL_5y"
      },
      "execution_count": null,
      "outputs": []
    },
    {
      "cell_type": "code",
      "source": [
        "c = torch.rand(size=(2,3), dtype= torch.float16)\n",
        "c"
      ],
      "metadata": {
        "colab": {
          "base_uri": "https://localhost:8080/"
        },
        "id": "G6sbwuhLJiI_",
        "outputId": "f218c071-30db-4c04-e2a4-62c6d88abb26"
      },
      "execution_count": null,
      "outputs": [
        {
          "output_type": "execute_result",
          "data": {
            "text/plain": [
              "tensor([[0.9844, 0.9087, 0.8149],\n",
              "        [0.2388, 0.8530, 0.4429]], dtype=torch.float16)"
            ]
          },
          "metadata": {},
          "execution_count": 10
        }
      ]
    },
    {
      "cell_type": "code",
      "source": [
        "c = torch.randint(high = 30, size=(2,3), dtype= torch.int32)\n",
        "c"
      ],
      "metadata": {
        "colab": {
          "base_uri": "https://localhost:8080/"
        },
        "id": "wPnrCUF6Lj56",
        "outputId": "946d7dad-e92c-4022-bce0-ec488a5ba20d"
      },
      "execution_count": null,
      "outputs": [
        {
          "output_type": "execute_result",
          "data": {
            "text/plain": [
              "tensor([[ 2,  3, 29],\n",
              "        [15, 11, 16]], dtype=torch.int32)"
            ]
          },
          "metadata": {},
          "execution_count": 11
        }
      ]
    },
    {
      "cell_type": "code",
      "source": [
        "c.device"
      ],
      "metadata": {
        "colab": {
          "base_uri": "https://localhost:8080/"
        },
        "id": "RE0-Qus7MWJ3",
        "outputId": "b1ff7df8-5aa0-4127-a312-2066415f6c86"
      },
      "execution_count": null,
      "outputs": [
        {
          "output_type": "execute_result",
          "data": {
            "text/plain": [
              "device(type='cpu')"
            ]
          },
          "metadata": {},
          "execution_count": 12
        }
      ]
    },
    {
      "cell_type": "code",
      "source": [
        "torch.cuda.is_available()"
      ],
      "metadata": {
        "colab": {
          "base_uri": "https://localhost:8080/"
        },
        "id": "g2mNi5DuNKde",
        "outputId": "1bf3f164-a192-469b-a414-1a45b7aec0af"
      },
      "execution_count": null,
      "outputs": [
        {
          "output_type": "execute_result",
          "data": {
            "text/plain": [
              "False"
            ]
          },
          "metadata": {},
          "execution_count": 13
        }
      ]
    },
    {
      "cell_type": "code",
      "source": [
        "a = torch.tensor([[1,2,3],\n",
        "                 [2,3,4]]\n",
        "                  )\n",
        "a"
      ],
      "metadata": {
        "colab": {
          "base_uri": "https://localhost:8080/"
        },
        "id": "H7i875aNPqcU",
        "outputId": "d82cb7a9-1c3b-40ca-e605-28ff038c9bd2"
      },
      "execution_count": null,
      "outputs": [
        {
          "output_type": "execute_result",
          "data": {
            "text/plain": [
              "tensor([[1, 2, 3],\n",
              "        [2, 3, 4]])"
            ]
          },
          "metadata": {},
          "execution_count": 14
        }
      ]
    },
    {
      "cell_type": "code",
      "source": [
        "a.shape"
      ],
      "metadata": {
        "colab": {
          "base_uri": "https://localhost:8080/"
        },
        "id": "J9ASsuq4Qt-x",
        "outputId": "60f60a0e-c118-4a30-a67e-b26aa5a47dac"
      },
      "execution_count": null,
      "outputs": [
        {
          "output_type": "execute_result",
          "data": {
            "text/plain": [
              "torch.Size([2, 3])"
            ]
          },
          "metadata": {},
          "execution_count": 15
        }
      ]
    },
    {
      "cell_type": "code",
      "source": [
        "b = torch.tensor([[4,5],\n",
        "                 [6,7],\n",
        "                  [8,9]])"
      ],
      "metadata": {
        "id": "FkVHf-gWP0BR"
      },
      "execution_count": null,
      "outputs": []
    },
    {
      "cell_type": "code",
      "source": [
        "b.shape"
      ],
      "metadata": {
        "colab": {
          "base_uri": "https://localhost:8080/"
        },
        "id": "KQ1o_mFcQwuq",
        "outputId": "47d8a4f2-215d-4e9a-9a6a-e033c255bcfb"
      },
      "execution_count": null,
      "outputs": [
        {
          "output_type": "execute_result",
          "data": {
            "text/plain": [
              "torch.Size([3, 2])"
            ]
          },
          "metadata": {},
          "execution_count": 17
        }
      ]
    },
    {
      "cell_type": "code",
      "source": [
        "c = torch.matmul(a, b)\n",
        "c"
      ],
      "metadata": {
        "colab": {
          "base_uri": "https://localhost:8080/"
        },
        "id": "UX6VA6xzP3jc",
        "outputId": "c83343b5-84a2-436d-d720-ebc9fdd2c69d"
      },
      "execution_count": null,
      "outputs": [
        {
          "output_type": "execute_result",
          "data": {
            "text/plain": [
              "tensor([[40, 46],\n",
              "        [58, 67]])"
            ]
          },
          "metadata": {},
          "execution_count": 18
        }
      ]
    },
    {
      "cell_type": "code",
      "source": [
        "a"
      ],
      "metadata": {
        "colab": {
          "base_uri": "https://localhost:8080/"
        },
        "id": "wBglvm8SP9AM",
        "outputId": "7de4903e-18bd-475f-e7dc-d85229ec38ab"
      },
      "execution_count": null,
      "outputs": [
        {
          "output_type": "execute_result",
          "data": {
            "text/plain": [
              "tensor([[1, 2, 3],\n",
              "        [2, 3, 4]])"
            ]
          },
          "metadata": {},
          "execution_count": 19
        }
      ]
    },
    {
      "cell_type": "code",
      "source": [
        "a.T"
      ],
      "metadata": {
        "colab": {
          "base_uri": "https://localhost:8080/"
        },
        "id": "2zG5_N7dRvva",
        "outputId": "61e2df90-9f62-408e-9431-a7bfe48ea990"
      },
      "execution_count": null,
      "outputs": [
        {
          "output_type": "execute_result",
          "data": {
            "text/plain": [
              "tensor([[1, 2],\n",
              "        [2, 3],\n",
              "        [3, 4]])"
            ]
          },
          "metadata": {},
          "execution_count": 20
        }
      ]
    },
    {
      "cell_type": "code",
      "source": [
        "a"
      ],
      "metadata": {
        "colab": {
          "base_uri": "https://localhost:8080/"
        },
        "id": "iqgH41a4RyDm",
        "outputId": "36ea678e-c2c7-472c-acf8-f9e98b9f1e34"
      },
      "execution_count": null,
      "outputs": [
        {
          "output_type": "execute_result",
          "data": {
            "text/plain": [
              "tensor([[1, 2, 3],\n",
              "        [2, 3, 4]])"
            ]
          },
          "metadata": {},
          "execution_count": 21
        }
      ]
    },
    {
      "cell_type": "code",
      "source": [
        "b = a.type(torch.float32)"
      ],
      "metadata": {
        "id": "w2LB8N4eSudo"
      },
      "execution_count": null,
      "outputs": []
    },
    {
      "cell_type": "code",
      "source": [
        "b.type(torch.float32).mean().type(torch.int32).item()"
      ],
      "metadata": {
        "colab": {
          "base_uri": "https://localhost:8080/"
        },
        "id": "ZAl9PfWsS0go",
        "outputId": "c80fff65-d9f0-4192-e324-bdc114e83491"
      },
      "execution_count": null,
      "outputs": [
        {
          "output_type": "execute_result",
          "data": {
            "text/plain": [
              "2"
            ]
          },
          "metadata": {},
          "execution_count": 23
        }
      ]
    },
    {
      "cell_type": "code",
      "source": [
        "a"
      ],
      "metadata": {
        "colab": {
          "base_uri": "https://localhost:8080/"
        },
        "id": "0UCBMBG2S1Xl",
        "outputId": "536ca367-3a0f-4dee-b9ea-a23edef4c069"
      },
      "execution_count": null,
      "outputs": [
        {
          "output_type": "execute_result",
          "data": {
            "text/plain": [
              "tensor([[1, 2, 3],\n",
              "        [2, 3, 4]])"
            ]
          },
          "metadata": {},
          "execution_count": 24
        }
      ]
    },
    {
      "cell_type": "code",
      "source": [
        "a.argmax()"
      ],
      "metadata": {
        "colab": {
          "base_uri": "https://localhost:8080/"
        },
        "id": "UnkAL8R7Tjj3",
        "outputId": "ac31dec0-2cd0-4de7-bded-a2a746160607"
      },
      "execution_count": null,
      "outputs": [
        {
          "output_type": "execute_result",
          "data": {
            "text/plain": [
              "tensor(5)"
            ]
          },
          "metadata": {},
          "execution_count": 25
        }
      ]
    },
    {
      "cell_type": "code",
      "source": [
        "a"
      ],
      "metadata": {
        "colab": {
          "base_uri": "https://localhost:8080/"
        },
        "id": "_mpaCno7TmbO",
        "outputId": "25b74b41-b641-423c-88e1-5bceb8eb7ff3"
      },
      "execution_count": null,
      "outputs": [
        {
          "output_type": "execute_result",
          "data": {
            "text/plain": [
              "tensor([[1, 2, 3],\n",
              "        [2, 3, 4]])"
            ]
          },
          "metadata": {},
          "execution_count": 26
        }
      ]
    },
    {
      "cell_type": "code",
      "source": [
        "a.reshape(6, 1)"
      ],
      "metadata": {
        "colab": {
          "base_uri": "https://localhost:8080/"
        },
        "id": "5G-tMe-zZeZe",
        "outputId": "8d2e9b57-ba2a-4fb9-c8a0-b8ffe06ab20e"
      },
      "execution_count": null,
      "outputs": [
        {
          "output_type": "execute_result",
          "data": {
            "text/plain": [
              "tensor([[1],\n",
              "        [2],\n",
              "        [3],\n",
              "        [2],\n",
              "        [3],\n",
              "        [4]])"
            ]
          },
          "metadata": {},
          "execution_count": 27
        }
      ]
    },
    {
      "cell_type": "code",
      "source": [
        "a"
      ],
      "metadata": {
        "colab": {
          "base_uri": "https://localhost:8080/"
        },
        "id": "KtKrwAF2Zg_b",
        "outputId": "21e152ff-a869-4778-e74d-bd432ea5c462"
      },
      "execution_count": null,
      "outputs": [
        {
          "output_type": "execute_result",
          "data": {
            "text/plain": [
              "tensor([[1, 2, 3],\n",
              "        [2, 3, 4]])"
            ]
          },
          "metadata": {},
          "execution_count": 28
        }
      ]
    },
    {
      "cell_type": "code",
      "source": [
        "b = a.view(1, 6).squeeze()\n",
        "b"
      ],
      "metadata": {
        "colab": {
          "base_uri": "https://localhost:8080/"
        },
        "id": "D_efrssBalws",
        "outputId": "237afc36-029f-4128-a75d-e17a2942a253"
      },
      "execution_count": null,
      "outputs": [
        {
          "output_type": "execute_result",
          "data": {
            "text/plain": [
              "tensor([1, 2, 3, 2, 3, 4])"
            ]
          },
          "metadata": {},
          "execution_count": 29
        }
      ]
    },
    {
      "cell_type": "code",
      "source": [
        "torch.stack([b, b ] , dim = 1)"
      ],
      "metadata": {
        "colab": {
          "base_uri": "https://localhost:8080/"
        },
        "id": "AW7V6wupaY9n",
        "outputId": "1211b1d1-e7bc-4224-f4c7-24dba20a616a"
      },
      "execution_count": null,
      "outputs": [
        {
          "output_type": "execute_result",
          "data": {
            "text/plain": [
              "tensor([[1, 1],\n",
              "        [2, 2],\n",
              "        [3, 3],\n",
              "        [2, 2],\n",
              "        [3, 3],\n",
              "        [4, 4]])"
            ]
          },
          "metadata": {},
          "execution_count": 30
        }
      ]
    },
    {
      "cell_type": "code",
      "source": [
        "torch.vstack([b, b])"
      ],
      "metadata": {
        "colab": {
          "base_uri": "https://localhost:8080/"
        },
        "id": "oGrri6_kacEB",
        "outputId": "2081ed76-4fd6-4eee-ac9b-bdc979bc4631"
      },
      "execution_count": null,
      "outputs": [
        {
          "output_type": "execute_result",
          "data": {
            "text/plain": [
              "tensor([[1, 2, 3, 2, 3, 4],\n",
              "        [1, 2, 3, 2, 3, 4]])"
            ]
          },
          "metadata": {},
          "execution_count": 31
        }
      ]
    },
    {
      "cell_type": "code",
      "source": [
        "x = torch.zeros(2,1,3,4,2)\n",
        "x"
      ],
      "metadata": {
        "colab": {
          "base_uri": "https://localhost:8080/"
        },
        "id": "XGxXdu70bDTv",
        "outputId": "eb47fe99-61ad-4f7d-da21-14357bcdd6ef"
      },
      "execution_count": null,
      "outputs": [
        {
          "output_type": "execute_result",
          "data": {
            "text/plain": [
              "tensor([[[[[0., 0.],\n",
              "           [0., 0.],\n",
              "           [0., 0.],\n",
              "           [0., 0.]],\n",
              "\n",
              "          [[0., 0.],\n",
              "           [0., 0.],\n",
              "           [0., 0.],\n",
              "           [0., 0.]],\n",
              "\n",
              "          [[0., 0.],\n",
              "           [0., 0.],\n",
              "           [0., 0.],\n",
              "           [0., 0.]]]],\n",
              "\n",
              "\n",
              "\n",
              "        [[[[0., 0.],\n",
              "           [0., 0.],\n",
              "           [0., 0.],\n",
              "           [0., 0.]],\n",
              "\n",
              "          [[0., 0.],\n",
              "           [0., 0.],\n",
              "           [0., 0.],\n",
              "           [0., 0.]],\n",
              "\n",
              "          [[0., 0.],\n",
              "           [0., 0.],\n",
              "           [0., 0.],\n",
              "           [0., 0.]]]]])"
            ]
          },
          "metadata": {},
          "execution_count": 32
        }
      ]
    },
    {
      "cell_type": "code",
      "source": [
        "x.unsqueeze(dim = 1)"
      ],
      "metadata": {
        "colab": {
          "base_uri": "https://localhost:8080/"
        },
        "id": "Apt_9TYObpex",
        "outputId": "ef4c5487-8e1d-4b2d-a04b-07265ad812f9"
      },
      "execution_count": null,
      "outputs": [
        {
          "output_type": "execute_result",
          "data": {
            "text/plain": [
              "tensor([[[[[[0., 0.],\n",
              "            [0., 0.],\n",
              "            [0., 0.],\n",
              "            [0., 0.]],\n",
              "\n",
              "           [[0., 0.],\n",
              "            [0., 0.],\n",
              "            [0., 0.],\n",
              "            [0., 0.]],\n",
              "\n",
              "           [[0., 0.],\n",
              "            [0., 0.],\n",
              "            [0., 0.],\n",
              "            [0., 0.]]]]],\n",
              "\n",
              "\n",
              "\n",
              "\n",
              "        [[[[[0., 0.],\n",
              "            [0., 0.],\n",
              "            [0., 0.],\n",
              "            [0., 0.]],\n",
              "\n",
              "           [[0., 0.],\n",
              "            [0., 0.],\n",
              "            [0., 0.],\n",
              "            [0., 0.]],\n",
              "\n",
              "           [[0., 0.],\n",
              "            [0., 0.],\n",
              "            [0., 0.],\n",
              "            [0., 0.]]]]]])"
            ]
          },
          "metadata": {},
          "execution_count": 33
        }
      ]
    },
    {
      "cell_type": "code",
      "source": [
        "a"
      ],
      "metadata": {
        "colab": {
          "base_uri": "https://localhost:8080/"
        },
        "id": "4CR-fMhsbvNC",
        "outputId": "0a0ad877-f33f-433a-a7cd-0fdff553460e"
      },
      "execution_count": null,
      "outputs": [
        {
          "output_type": "execute_result",
          "data": {
            "text/plain": [
              "tensor([[1, 2, 3],\n",
              "        [2, 3, 4]])"
            ]
          },
          "metadata": {},
          "execution_count": 34
        }
      ]
    },
    {
      "cell_type": "code",
      "source": [
        "z = torch.rand(2,3,4)\n",
        "z"
      ],
      "metadata": {
        "colab": {
          "base_uri": "https://localhost:8080/"
        },
        "id": "Aqp2TzKtd9tz",
        "outputId": "14d2a807-3d8c-4819-fb19-0dba57656df4"
      },
      "execution_count": null,
      "outputs": [
        {
          "output_type": "execute_result",
          "data": {
            "text/plain": [
              "tensor([[[0.3327, 0.1542, 0.1928, 0.5246],\n",
              "         [0.1350, 0.9953, 0.3658, 0.2625],\n",
              "         [0.7667, 0.9431, 0.9725, 0.8570]],\n",
              "\n",
              "        [[0.3580, 0.7058, 0.2207, 0.5037],\n",
              "         [0.7405, 0.0823, 0.8507, 0.4635],\n",
              "         [0.2163, 0.3045, 0.8229, 0.5554]]])"
            ]
          },
          "metadata": {},
          "execution_count": 35
        }
      ]
    },
    {
      "cell_type": "code",
      "source": [
        "z[0][1]"
      ],
      "metadata": {
        "colab": {
          "base_uri": "https://localhost:8080/"
        },
        "id": "5I_X1ikJeHB7",
        "outputId": "52fb5d2a-a2c5-4246-c5df-9ccabd3cf27b"
      },
      "execution_count": null,
      "outputs": [
        {
          "output_type": "execute_result",
          "data": {
            "text/plain": [
              "tensor([0.1350, 0.9953, 0.3658, 0.2625])"
            ]
          },
          "metadata": {},
          "execution_count": 36
        }
      ]
    },
    {
      "cell_type": "code",
      "source": [
        "z[:,1,0]"
      ],
      "metadata": {
        "colab": {
          "base_uri": "https://localhost:8080/"
        },
        "id": "mh2sEgKAeL89",
        "outputId": "fc125450-5a57-46cf-ec04-9772f1d817e0"
      },
      "execution_count": null,
      "outputs": [
        {
          "output_type": "execute_result",
          "data": {
            "text/plain": [
              "tensor([0.1350, 0.7405])"
            ]
          },
          "metadata": {},
          "execution_count": 37
        }
      ]
    },
    {
      "cell_type": "code",
      "source": [
        "z[:,:,2].T"
      ],
      "metadata": {
        "colab": {
          "base_uri": "https://localhost:8080/"
        },
        "id": "iFHjviUteQHK",
        "outputId": "063e0eac-52ac-4189-a8a1-2efe7b35f1c5"
      },
      "execution_count": null,
      "outputs": [
        {
          "output_type": "execute_result",
          "data": {
            "text/plain": [
              "tensor([[0.1928, 0.2207],\n",
              "        [0.3658, 0.8507],\n",
              "        [0.9725, 0.8229]])"
            ]
          },
          "metadata": {},
          "execution_count": 38
        }
      ]
    },
    {
      "cell_type": "code",
      "source": [
        "z"
      ],
      "metadata": {
        "colab": {
          "base_uri": "https://localhost:8080/"
        },
        "id": "G7pA2tUxegv3",
        "outputId": "e3d9261a-95fb-481d-c248-c2bbf6a0ef47"
      },
      "execution_count": null,
      "outputs": [
        {
          "output_type": "execute_result",
          "data": {
            "text/plain": [
              "tensor([[[0.3327, 0.1542, 0.1928, 0.5246],\n",
              "         [0.1350, 0.9953, 0.3658, 0.2625],\n",
              "         [0.7667, 0.9431, 0.9725, 0.8570]],\n",
              "\n",
              "        [[0.3580, 0.7058, 0.2207, 0.5037],\n",
              "         [0.7405, 0.0823, 0.8507, 0.4635],\n",
              "         [0.2163, 0.3045, 0.8229, 0.5554]]])"
            ]
          },
          "metadata": {},
          "execution_count": 39
        }
      ]
    },
    {
      "cell_type": "code",
      "source": [
        "z[:][:][1]"
      ],
      "metadata": {
        "colab": {
          "base_uri": "https://localhost:8080/"
        },
        "id": "wXjgSNc-fvPD",
        "outputId": "f0521e83-b7bf-4a67-ba73-08c683a4d5db"
      },
      "execution_count": null,
      "outputs": [
        {
          "output_type": "execute_result",
          "data": {
            "text/plain": [
              "tensor([[0.3580, 0.7058, 0.2207, 0.5037],\n",
              "        [0.7405, 0.0823, 0.8507, 0.4635],\n",
              "        [0.2163, 0.3045, 0.8229, 0.5554]])"
            ]
          },
          "metadata": {},
          "execution_count": 40
        }
      ]
    },
    {
      "cell_type": "code",
      "source": [
        "import numpy as np\n",
        "import torch"
      ],
      "metadata": {
        "id": "U3n21CudjvzI"
      },
      "execution_count": null,
      "outputs": []
    },
    {
      "cell_type": "code",
      "source": [
        "d = np.arange(1, 10.0, dtype = np.int32)\n",
        "d"
      ],
      "metadata": {
        "colab": {
          "base_uri": "https://localhost:8080/"
        },
        "id": "UQeh-MGAnLyt",
        "outputId": "df42eb80-950c-4f65-9bad-da4a2b460cc6"
      },
      "execution_count": null,
      "outputs": [
        {
          "output_type": "execute_result",
          "data": {
            "text/plain": [
              "array([1, 2, 3, 4, 5, 6, 7, 8, 9], dtype=int32)"
            ]
          },
          "metadata": {},
          "execution_count": 42
        }
      ]
    },
    {
      "cell_type": "code",
      "source": [
        "d.dtype"
      ],
      "metadata": {
        "colab": {
          "base_uri": "https://localhost:8080/"
        },
        "id": "lh2huns1nQqU",
        "outputId": "d53a2e0e-2830-4fb6-e7a8-c1bed2c96206"
      },
      "execution_count": null,
      "outputs": [
        {
          "output_type": "execute_result",
          "data": {
            "text/plain": [
              "dtype('int32')"
            ]
          },
          "metadata": {},
          "execution_count": 43
        }
      ]
    },
    {
      "cell_type": "code",
      "source": [
        "e = torch.from_numpy(d)\n",
        "e"
      ],
      "metadata": {
        "colab": {
          "base_uri": "https://localhost:8080/"
        },
        "id": "QkCx1GivnUuy",
        "outputId": "04426f0a-0404-436f-8beb-53382c0a50c6"
      },
      "execution_count": null,
      "outputs": [
        {
          "output_type": "execute_result",
          "data": {
            "text/plain": [
              "tensor([1, 2, 3, 4, 5, 6, 7, 8, 9], dtype=torch.int32)"
            ]
          },
          "metadata": {},
          "execution_count": 44
        }
      ]
    },
    {
      "cell_type": "code",
      "source": [
        "e.dtype"
      ],
      "metadata": {
        "colab": {
          "base_uri": "https://localhost:8080/"
        },
        "id": "b26Fwzp3nulX",
        "outputId": "274bff4d-24fb-491b-be06-4c1880a7dcce"
      },
      "execution_count": null,
      "outputs": [
        {
          "output_type": "execute_result",
          "data": {
            "text/plain": [
              "torch.int32"
            ]
          },
          "metadata": {},
          "execution_count": 45
        }
      ]
    },
    {
      "cell_type": "code",
      "source": [
        "f = e.numpy()\n",
        "f"
      ],
      "metadata": {
        "colab": {
          "base_uri": "https://localhost:8080/"
        },
        "id": "itvaZsExnxxK",
        "outputId": "fac41ff9-818f-4368-af7a-30fc077ace84"
      },
      "execution_count": null,
      "outputs": [
        {
          "output_type": "execute_result",
          "data": {
            "text/plain": [
              "array([1, 2, 3, 4, 5, 6, 7, 8, 9], dtype=int32)"
            ]
          },
          "metadata": {},
          "execution_count": 46
        }
      ]
    },
    {
      "cell_type": "code",
      "source": [
        "device = 'cuda' if torch.cuda.is_available() else 'cpu'\n",
        "device"
      ],
      "metadata": {
        "colab": {
          "base_uri": "https://localhost:8080/",
          "height": 35
        },
        "id": "bWbt7VaJn6Or",
        "outputId": "94c65efc-d946-48a1-e2cd-dc3c3c6d23ec"
      },
      "execution_count": null,
      "outputs": [
        {
          "output_type": "execute_result",
          "data": {
            "text/plain": [
              "'cpu'"
            ],
            "application/vnd.google.colaboratory.intrinsic+json": {
              "type": "string"
            }
          },
          "metadata": {},
          "execution_count": 47
        }
      ]
    },
    {
      "cell_type": "code",
      "source": [
        "torch.cuda.device_count()"
      ],
      "metadata": {
        "colab": {
          "base_uri": "https://localhost:8080/"
        },
        "id": "DEv5iq792iMj",
        "outputId": "49aaacb8-8846-435c-d451-2b10fc050519"
      },
      "execution_count": null,
      "outputs": [
        {
          "output_type": "execute_result",
          "data": {
            "text/plain": [
              "0"
            ]
          },
          "metadata": {},
          "execution_count": 48
        }
      ]
    },
    {
      "cell_type": "code",
      "source": [
        "d"
      ],
      "metadata": {
        "id": "l2Slemss2v5O",
        "colab": {
          "base_uri": "https://localhost:8080/"
        },
        "outputId": "726c9431-3a52-4e08-cf7c-a32481d788b8"
      },
      "execution_count": null,
      "outputs": [
        {
          "output_type": "execute_result",
          "data": {
            "text/plain": [
              "array([1, 2, 3, 4, 5, 6, 7, 8, 9], dtype=int32)"
            ]
          },
          "metadata": {},
          "execution_count": 49
        }
      ]
    },
    {
      "cell_type": "code",
      "source": [
        "# d_gpu = d.to(device)"
      ],
      "metadata": {
        "colab": {
          "base_uri": "https://localhost:8080/",
          "height": 144
        },
        "id": "VM4RjY214jaK",
        "outputId": "369daedc-851d-4bf2-9f40-715eff264b77"
      },
      "execution_count": null,
      "outputs": [
        {
          "output_type": "error",
          "ename": "AttributeError",
          "evalue": "'numpy.ndarray' object has no attribute 'to'",
          "traceback": [
            "\u001b[0;31m---------------------------------------------------------------------------\u001b[0m",
            "\u001b[0;31mAttributeError\u001b[0m                            Traceback (most recent call last)",
            "\u001b[0;32m<ipython-input-50-980bd400382e>\u001b[0m in \u001b[0;36m<cell line: 0>\u001b[0;34m()\u001b[0m\n\u001b[0;32m----> 1\u001b[0;31m \u001b[0md_gpu\u001b[0m \u001b[0;34m=\u001b[0m \u001b[0md\u001b[0m\u001b[0;34m.\u001b[0m\u001b[0mto\u001b[0m\u001b[0;34m(\u001b[0m\u001b[0mdevice\u001b[0m\u001b[0;34m)\u001b[0m\u001b[0;34m\u001b[0m\u001b[0;34m\u001b[0m\u001b[0m\n\u001b[0m",
            "\u001b[0;31mAttributeError\u001b[0m: 'numpy.ndarray' object has no attribute 'to'"
          ]
        }
      ]
    },
    {
      "cell_type": "code",
      "source": [
        "e"
      ],
      "metadata": {
        "colab": {
          "base_uri": "https://localhost:8080/"
        },
        "id": "hzfyifJ040O-",
        "outputId": "54dfeaad-96ca-42d4-f629-933449e2ed6d"
      },
      "execution_count": null,
      "outputs": [
        {
          "output_type": "execute_result",
          "data": {
            "text/plain": [
              "tensor([1, 2, 3, 4, 5, 6, 7, 8, 9], dtype=torch.int32)"
            ]
          },
          "metadata": {},
          "execution_count": 51
        }
      ]
    },
    {
      "cell_type": "code",
      "source": [
        "e_gpu = e.to(device)"
      ],
      "metadata": {
        "id": "npeeL8h0439P"
      },
      "execution_count": null,
      "outputs": []
    },
    {
      "cell_type": "code",
      "source": [
        "e_gpu"
      ],
      "metadata": {
        "colab": {
          "base_uri": "https://localhost:8080/"
        },
        "id": "bqr7t7Yn4-Oj",
        "outputId": "48efae3f-90e5-493e-a31b-668e9e100255"
      },
      "execution_count": null,
      "outputs": [
        {
          "output_type": "execute_result",
          "data": {
            "text/plain": [
              "tensor([1, 2, 3, 4, 5, 6, 7, 8, 9], dtype=torch.int32)"
            ]
          },
          "metadata": {},
          "execution_count": 53
        }
      ]
    },
    {
      "cell_type": "code",
      "source": [
        "e_gpu.numpy()"
      ],
      "metadata": {
        "colab": {
          "base_uri": "https://localhost:8080/"
        },
        "id": "XKGis_Bk4_iM",
        "outputId": "bafdfccb-979b-48df-d362-0de062b709d4"
      },
      "execution_count": null,
      "outputs": [
        {
          "output_type": "execute_result",
          "data": {
            "text/plain": [
              "array([1, 2, 3, 4, 5, 6, 7, 8, 9], dtype=int32)"
            ]
          },
          "metadata": {},
          "execution_count": 54
        }
      ]
    },
    {
      "cell_type": "code",
      "source": [
        "e_cpu = e_gpu.cpu()\n",
        "e_cpu"
      ],
      "metadata": {
        "colab": {
          "base_uri": "https://localhost:8080/"
        },
        "id": "QrDncYtI5RmC",
        "outputId": "d6cc68c2-c727-4a94-ac5a-227544c681fc"
      },
      "execution_count": null,
      "outputs": [
        {
          "output_type": "execute_result",
          "data": {
            "text/plain": [
              "tensor([1, 2, 3, 4, 5, 6, 7, 8, 9], dtype=torch.int32)"
            ]
          },
          "metadata": {},
          "execution_count": 55
        }
      ]
    },
    {
      "cell_type": "code",
      "source": [],
      "metadata": {
        "id": "pboMFJKsH9gF"
      },
      "execution_count": null,
      "outputs": []
    },
    {
      "cell_type": "code",
      "source": [],
      "metadata": {
        "id": "TmNiXxkOH9id"
      },
      "execution_count": null,
      "outputs": []
    },
    {
      "cell_type": "code",
      "source": [],
      "metadata": {
        "id": "QfuxnGceH9kv"
      },
      "execution_count": null,
      "outputs": []
    },
    {
      "cell_type": "code",
      "source": [],
      "metadata": {
        "id": "Q8v15KAzH9m5"
      },
      "execution_count": null,
      "outputs": []
    },
    {
      "cell_type": "code",
      "source": [],
      "metadata": {
        "id": "eBC69jHCH9pu"
      },
      "execution_count": null,
      "outputs": []
    },
    {
      "cell_type": "code",
      "source": [],
      "metadata": {
        "id": "gmfBUoAzH9r0"
      },
      "execution_count": null,
      "outputs": []
    },
    {
      "cell_type": "code",
      "source": [],
      "metadata": {
        "id": "Da960Ec5H9t5"
      },
      "execution_count": null,
      "outputs": []
    },
    {
      "cell_type": "code",
      "source": [
        "import numpy as np\n",
        "import torch\n",
        "from torch import nn\n",
        "import matplotlib.pyplot as plt"
      ],
      "metadata": {
        "id": "wZVrUctJ5eeL"
      },
      "execution_count": null,
      "outputs": []
    },
    {
      "cell_type": "code",
      "source": [
        "X = np.arange(1, 10, 0.2)\n",
        "X\n"
      ],
      "metadata": {
        "colab": {
          "base_uri": "https://localhost:8080/"
        },
        "id": "eUjaWuXVAMTG",
        "outputId": "a6748656-d16d-466b-832b-224fccdea67f"
      },
      "execution_count": null,
      "outputs": [
        {
          "output_type": "execute_result",
          "data": {
            "text/plain": [
              "array([1. , 1.2, 1.4, 1.6, 1.8, 2. , 2.2, 2.4, 2.6, 2.8, 3. , 3.2, 3.4,\n",
              "       3.6, 3.8, 4. , 4.2, 4.4, 4.6, 4.8, 5. , 5.2, 5.4, 5.6, 5.8, 6. ,\n",
              "       6.2, 6.4, 6.6, 6.8, 7. , 7.2, 7.4, 7.6, 7.8, 8. , 8.2, 8.4, 8.6,\n",
              "       8.8, 9. , 9.2, 9.4, 9.6, 9.8])"
            ]
          },
          "metadata": {},
          "execution_count": 93
        }
      ]
    },
    {
      "cell_type": "code",
      "source": [
        "# y = ax+b\n",
        "# a = weight\n",
        "# b= bias\n",
        "\n",
        "w = 4\n",
        "b = 90\n",
        "y = w*X + b # y = 4X+90\n",
        "y"
      ],
      "metadata": {
        "colab": {
          "base_uri": "https://localhost:8080/"
        },
        "id": "miOEG5wvAWIs",
        "outputId": "e3f555b2-aa4f-4ea3-9870-fcbc7444d5e9"
      },
      "execution_count": null,
      "outputs": [
        {
          "output_type": "execute_result",
          "data": {
            "text/plain": [
              "array([ 94. ,  94.8,  95.6,  96.4,  97.2,  98. ,  98.8,  99.6, 100.4,\n",
              "       101.2, 102. , 102.8, 103.6, 104.4, 105.2, 106. , 106.8, 107.6,\n",
              "       108.4, 109.2, 110. , 110.8, 111.6, 112.4, 113.2, 114. , 114.8,\n",
              "       115.6, 116.4, 117.2, 118. , 118.8, 119.6, 120.4, 121.2, 122. ,\n",
              "       122.8, 123.6, 124.4, 125.2, 126. , 126.8, 127.6, 128.4, 129.2])"
            ]
          },
          "metadata": {},
          "execution_count": 94
        }
      ]
    },
    {
      "cell_type": "code",
      "source": [
        "# split\n",
        "s = int(len(X)*0.8)\n",
        "s"
      ],
      "metadata": {
        "colab": {
          "base_uri": "https://localhost:8080/"
        },
        "id": "nwtOsBZKArtv",
        "outputId": "72c4fd18-2011-487a-88e6-607cdc0df60e"
      },
      "execution_count": null,
      "outputs": [
        {
          "output_type": "execute_result",
          "data": {
            "text/plain": [
              "36"
            ]
          },
          "metadata": {},
          "execution_count": 95
        }
      ]
    },
    {
      "cell_type": "code",
      "source": [
        "X_train, y_train = X[:s] , y[:s]\n",
        "X_test, y_test = X[s:] , y[s:]"
      ],
      "metadata": {
        "id": "Xw7LK7unA0Vs"
      },
      "execution_count": null,
      "outputs": []
    },
    {
      "cell_type": "code",
      "source": [
        "len(X_test)"
      ],
      "metadata": {
        "colab": {
          "base_uri": "https://localhost:8080/"
        },
        "id": "s4TLrZ4OA3ai",
        "outputId": "bf2488f8-699a-434c-bf99-9743ad7af846"
      },
      "execution_count": null,
      "outputs": [
        {
          "output_type": "execute_result",
          "data": {
            "text/plain": [
              "9"
            ]
          },
          "metadata": {},
          "execution_count": 97
        }
      ]
    },
    {
      "cell_type": "code",
      "source": [
        "from sklearn.model_selection import train_test_split"
      ],
      "metadata": {
        "id": "_cQ6KW3gBF2h"
      },
      "execution_count": null,
      "outputs": []
    },
    {
      "cell_type": "code",
      "source": [
        "X_train_sk, X_test_sk, y_train_sk, y_test_sk = train_test_split (X, y,test_size = 0.2)"
      ],
      "metadata": {
        "id": "AY-qOuTBB2t-"
      },
      "execution_count": null,
      "outputs": []
    },
    {
      "cell_type": "code",
      "source": [
        "len(y_test_sk)"
      ],
      "metadata": {
        "colab": {
          "base_uri": "https://localhost:8080/"
        },
        "id": "wQQaVw9VCPvR",
        "outputId": "600f0b67-5a4b-4cd1-f05e-eb4d99e2bc14"
      },
      "execution_count": null,
      "outputs": [
        {
          "output_type": "execute_result",
          "data": {
            "text/plain": [
              "9"
            ]
          },
          "metadata": {},
          "execution_count": 100
        }
      ]
    },
    {
      "cell_type": "code",
      "source": [
        "plt.figure(figsize=(10, 7))\n",
        "plt.plot(X_train, y_train, c = 'r')\n",
        "plt.xlabel('X_train')\n",
        "plt.ylabel('y_train')\n",
        "plt.show()"
      ],
      "metadata": {
        "colab": {
          "base_uri": "https://localhost:8080/",
          "height": 619
        },
        "id": "umdF66yLCSt6",
        "outputId": "2e2d0890-da96-48d1-d3ae-0e3cba6bb48e"
      },
      "execution_count": null,
      "outputs": [
        {
          "output_type": "display_data",
          "data": {
            "text/plain": [
              "<Figure size 1000x700 with 1 Axes>"
            ],
            "image/png": "[encoded data removed]"
          },
          "metadata": {}
        }
      ]
    },
    {
      "cell_type": "code",
      "source": [
        "def plot_fig (X_train, y_train, X_test, y_test, y_pred = None):\n",
        "  import matplotlib.pyplot as plt\n",
        "\n",
        "  plt.figure(figsize = (10, 7))\n",
        "  plt.scatter(X_train, y_train, c = 'b', s=4, label = 'Training Data')\n",
        "  plt.scatter(X_test, y_test, c= 'r' , s = 4, label = 'Test Data')\n",
        "  if y_pred is not None:\n",
        "    plt.scatter(X_test, y_pred, c = 'y', s=4 , label = 'Pred Data')\n",
        "\n",
        "  plt.legend()\n",
        "  plt.show()\n"
      ],
      "metadata": {
        "id": "eFFthjlcFRDg"
      },
      "execution_count": null,
      "outputs": []
    },
    {
      "cell_type": "code",
      "source": [
        "plot_fig (X_train, y_train, X_test, y_test)"
      ],
      "metadata": {
        "colab": {
          "base_uri": "https://localhost:8080/",
          "height": 599
        },
        "id": "m32ISKpeHYX0",
        "outputId": "2eb81a62-2bfa-4e0e-816e-c9ef456624f7"
      },
      "execution_count": null,
      "outputs": [
        {
          "output_type": "display_data",
          "data": {
            "text/plain": [
              "<Figure size 1000x700 with 1 Axes>"
            ],
            "image/png": "[encoded data removed]"
          },
          "metadata": {}
        }
      ]
    },
    {
      "cell_type": "code",
      "source": [
        "class LinearReg(nn.Module):\n",
        "  def __init__(self):\n",
        "    super().__init__()\n",
        "    self.weights = nn.Parameter(torch.randn(1,\n",
        "                                requires_grad = True,\n",
        "                                dtype = torch.float32)\n",
        "                                )\n",
        "\n",
        "    self.bias = nn.Parameter(torch.randn(1,\n",
        "                                        requires_grad= True,\n",
        "                                        dtype = torch.float32))\n",
        "\n",
        "\n",
        "  def forward(self, x: torch.tensor) -> torch.tensor:\n",
        "    y = self.weights*x + self.bias # y = mx+c\n",
        "    return y\n"
      ],
      "metadata": {
        "id": "dN83EBCmHyUQ"
      },
      "execution_count": null,
      "outputs": []
    },
    {
      "cell_type": "code",
      "source": [
        "torch.manual_seed(42)\n",
        "a1 = LinearReg()"
      ],
      "metadata": {
        "id": "cynCNWkuLKUm"
      },
      "execution_count": null,
      "outputs": []
    },
    {
      "cell_type": "code",
      "source": [
        "a1.weights"
      ],
      "metadata": {
        "colab": {
          "base_uri": "https://localhost:8080/"
        },
        "id": "vJNTTFPTL5rU",
        "outputId": "2e09dc00-a635-473b-bc53-cacc720c9063"
      },
      "execution_count": null,
      "outputs": [
        {
          "output_type": "execute_result",
          "data": {
            "text/plain": [
              "Parameter containing:\n",
              "tensor([0.3367], requires_grad=True)"
            ]
          },
          "metadata": {},
          "execution_count": 106
        }
      ]
    },
    {
      "cell_type": "code",
      "source": [
        "a1.bias"
      ],
      "metadata": {
        "colab": {
          "base_uri": "https://localhost:8080/"
        },
        "id": "zclsooneMHVh",
        "outputId": "812de398-a4e3-480a-d6a7-cdc87d301e7c"
      },
      "execution_count": null,
      "outputs": [
        {
          "output_type": "execute_result",
          "data": {
            "text/plain": [
              "Parameter containing:\n",
              "tensor([0.1288], requires_grad=True)"
            ]
          },
          "metadata": {},
          "execution_count": 108
        }
      ]
    },
    {
      "cell_type": "code",
      "source": [
        "list(a1.parameters())"
      ],
      "metadata": {
        "colab": {
          "base_uri": "https://localhost:8080/"
        },
        "id": "0BgGJs_DaL8Y",
        "outputId": "681a4df3-f35a-4b46-bbd9-e81ab37cf6ff"
      },
      "execution_count": null,
      "outputs": [
        {
          "output_type": "execute_result",
          "data": {
            "text/plain": [
              "[Parameter containing:\n",
              " tensor([0.3367], requires_grad=True),\n",
              " Parameter containing:\n",
              " tensor([0.1288], requires_grad=True)]"
            ]
          },
          "metadata": {},
          "execution_count": 109
        }
      ]
    },
    {
      "cell_type": "code",
      "source": [
        "a1.forward(torch.from_numpy(X_test))"
      ],
      "metadata": {
        "colab": {
          "base_uri": "https://localhost:8080/"
        },
        "id": "1SZ4dDw7Mka-",
        "outputId": "771f4e8b-71c1-40a8-9777-8316e2de958e"
      },
      "execution_count": null,
      "outputs": [
        {
          "output_type": "execute_result",
          "data": {
            "text/plain": [
              "tensor([2.8897, 2.9570, 3.0243, 3.0917, 3.1590, 3.2264, 3.2937, 3.3610, 3.4284],\n",
              "       dtype=torch.float64, grad_fn=<AddBackward0>)"
            ]
          },
          "metadata": {},
          "execution_count": 110
        }
      ]
    },
    {
      "cell_type": "code",
      "source": [
        "a1(torch.from_numpy(X_test))"
      ],
      "metadata": {
        "colab": {
          "base_uri": "https://localhost:8080/"
        },
        "id": "rREm5CSr7BqU",
        "outputId": "e9d0208f-799e-4b35-9251-ed6d0fe9e2e3"
      },
      "execution_count": null,
      "outputs": [
        {
          "output_type": "execute_result",
          "data": {
            "text/plain": [
              "tensor([2.8897, 2.9570, 3.0243, 3.0917, 3.1590, 3.2264, 3.2937, 3.3610, 3.4284],\n",
              "       dtype=torch.float64, grad_fn=<AddBackward0>)"
            ]
          },
          "metadata": {},
          "execution_count": 111
        }
      ]
    },
    {
      "cell_type": "code",
      "source": [
        "torch.from_numpy(X_test)"
      ],
      "metadata": {
        "colab": {
          "base_uri": "https://localhost:8080/"
        },
        "id": "JGSuC_YFNHfD",
        "outputId": "0227cbaa-76e9-4162-cd4e-7ec114b32ed9"
      },
      "execution_count": null,
      "outputs": [
        {
          "output_type": "execute_result",
          "data": {
            "text/plain": [
              "tensor([8.2000, 8.4000, 8.6000, 8.8000, 9.0000, 9.2000, 9.4000, 9.6000, 9.8000],\n",
              "       dtype=torch.float64)"
            ]
          },
          "metadata": {},
          "execution_count": 112
        }
      ]
    },
    {
      "cell_type": "code",
      "source": [
        "0.8823*8.2000 + 0.9150"
      ],
      "metadata": {
        "colab": {
          "base_uri": "https://localhost:8080/"
        },
        "id": "jnGnYDDAaxLA",
        "outputId": "b121d267-3521-44d6-9c3d-6c8c303b237c"
      },
      "execution_count": null,
      "outputs": [
        {
          "output_type": "execute_result",
          "data": {
            "text/plain": [
              "8.14986"
            ]
          },
          "metadata": {},
          "execution_count": 113
        }
      ]
    },
    {
      "cell_type": "code",
      "source": [
        "a1.state_dict()"
      ],
      "metadata": {
        "colab": {
          "base_uri": "https://localhost:8080/"
        },
        "id": "w_KkexKea6vW",
        "outputId": "fdfe4244-d08c-4a2b-d00a-01eb12bf4793"
      },
      "execution_count": null,
      "outputs": [
        {
          "output_type": "execute_result",
          "data": {
            "text/plain": [
              "OrderedDict([('weights', tensor([0.3367])), ('bias', tensor([0.1288]))])"
            ]
          },
          "metadata": {},
          "execution_count": 114
        }
      ]
    },
    {
      "cell_type": "code",
      "source": [
        "X_test"
      ],
      "metadata": {
        "colab": {
          "base_uri": "https://localhost:8080/"
        },
        "id": "Vk5HMzaUczkM",
        "outputId": "a414e07a-5f9a-4e25-ded5-a4d796607029"
      },
      "execution_count": null,
      "outputs": [
        {
          "output_type": "execute_result",
          "data": {
            "text/plain": [
              "array([8.2, 8.4, 8.6, 8.8, 9. , 9.2, 9.4, 9.6, 9.8])"
            ]
          },
          "metadata": {},
          "execution_count": 115
        }
      ]
    },
    {
      "cell_type": "code",
      "source": [
        "y_test"
      ],
      "metadata": {
        "colab": {
          "base_uri": "https://localhost:8080/"
        },
        "id": "Rrve6Lomdf89",
        "outputId": "7094571f-c4a0-4794-ffe8-8b88911dafcb"
      },
      "execution_count": null,
      "outputs": [
        {
          "output_type": "execute_result",
          "data": {
            "text/plain": [
              "array([122.8, 123.6, 124.4, 125.2, 126. , 126.8, 127.6, 128.4, 129.2])"
            ]
          },
          "metadata": {},
          "execution_count": 116
        }
      ]
    },
    {
      "cell_type": "code",
      "source": [
        "with torch.inference_mode():\n",
        "  y_pred = a1.forward(X_test)\n",
        "y_pred"
      ],
      "metadata": {
        "colab": {
          "base_uri": "https://localhost:8080/"
        },
        "id": "wLSJicXDdjg1",
        "outputId": "89edb2d7-1a48-454e-adf1-581e2339044a"
      },
      "execution_count": null,
      "outputs": [
        {
          "output_type": "stream",
          "name": "stderr",
          "text": [
            "<ipython-input-104-4baaa7afdc35>:15: DeprecationWarning: __array_wrap__ must accept context and return_scalar arguments (positionally) in the future. (Deprecated NumPy 2.0)\n",
            "  y = self.weights*x + self.bias # y = mx+c\n"
          ]
        },
        {
          "output_type": "execute_result",
          "data": {
            "text/plain": [
              "tensor([2.8897, 2.9570, 3.0243, 3.0917, 3.1590, 3.2264, 3.2937, 3.3610, 3.4284],\n",
              "       dtype=torch.float64)"
            ]
          },
          "metadata": {},
          "execution_count": 117
        }
      ]
    },
    {
      "cell_type": "code",
      "source": [
        "plot_fig (X_train, y_train, X_test, y_test, y_pred)"
      ],
      "metadata": {
        "colab": {
          "base_uri": "https://localhost:8080/",
          "height": 599
        },
        "id": "B2pS5N_wd1-3",
        "outputId": "a8a7694c-f0ca-476f-ca2e-1be71650136c"
      },
      "execution_count": null,
      "outputs": [
        {
          "output_type": "display_data",
          "data": {
            "text/plain": [
              "<Figure size 1000x700 with 1 Axes>"
            ],
            "image/png": "[encoded data removed]"
          },
          "metadata": {}
        }
      ]
    },
    {
      "cell_type": "code",
      "source": [
        "with torch.no_grad():\n",
        "  y_pred = a1.forward(X_test)\n",
        "\n",
        "y_pred"
      ],
      "metadata": {
        "colab": {
          "base_uri": "https://localhost:8080/"
        },
        "id": "plXCWZe-ej_L",
        "outputId": "ee67f34b-7a62-436a-883d-5672dc249b96"
      },
      "execution_count": null,
      "outputs": [
        {
          "output_type": "stream",
          "name": "stderr",
          "text": [
            "<ipython-input-104-4baaa7afdc35>:15: DeprecationWarning: __array_wrap__ must accept context and return_scalar arguments (positionally) in the future. (Deprecated NumPy 2.0)\n",
            "  y = self.weights*x + self.bias # y = mx+c\n"
          ]
        },
        {
          "output_type": "execute_result",
          "data": {
            "text/plain": [
              "tensor([2.8897, 2.9570, 3.0243, 3.0917, 3.1590, 3.2264, 3.2937, 3.3610, 3.4284],\n",
              "       dtype=torch.float64)"
            ]
          },
          "metadata": {},
          "execution_count": 119
        }
      ]
    },
    {
      "cell_type": "code",
      "source": [
        "a1.state_dict()"
      ],
      "metadata": {
        "colab": {
          "base_uri": "https://localhost:8080/"
        },
        "id": "LHX11r-WAa9i",
        "outputId": "2cc093ed-9fa6-47c4-fa0b-ee2c587cbada"
      },
      "execution_count": null,
      "outputs": [
        {
          "output_type": "execute_result",
          "data": {
            "text/plain": [
              "OrderedDict([('weights', tensor([0.3367])), ('bias', tensor([0.1288]))])"
            ]
          },
          "metadata": {},
          "execution_count": 120
        }
      ]
    },
    {
      "cell_type": "code",
      "source": [
        "loss_fn = nn.L1Loss()\n",
        "loss_fn"
      ],
      "metadata": {
        "colab": {
          "base_uri": "https://localhost:8080/"
        },
        "id": "ue95C5rBjsbc",
        "outputId": "881dbffa-5836-4c99-9bb5-cff7fc07a150"
      },
      "execution_count": null,
      "outputs": [
        {
          "output_type": "execute_result",
          "data": {
            "text/plain": [
              "L1Loss()"
            ]
          },
          "metadata": {},
          "execution_count": 121
        }
      ]
    },
    {
      "cell_type": "code",
      "source": [
        "optim = torch.optim.SGD(params = a1.parameters(),\n",
        "                        lr = 0.01\n",
        "                        )"
      ],
      "metadata": {
        "id": "F64ozeceoawj"
      },
      "execution_count": null,
      "outputs": []
    },
    {
      "cell_type": "code",
      "source": [
        "epoch = 10000\n",
        "\n",
        "for i in range(epoch):\n",
        "\n",
        "  # Training loop\n",
        "\n",
        "  a1.train()\n",
        "\n",
        "  #Forward Pass\n",
        "  y_pred = a1(torch.from_numpy(X_train))\n",
        "  # print(y_pred)\n",
        "  # print(y_train)\n",
        "\n",
        "  #Loss\n",
        "  loss = loss_fn(y_pred, torch.from_numpy(y_train))\n",
        "  # print(f'{i = }, {loss =}')\n",
        "\n",
        "  optim.zero_grad()\n",
        "\n",
        "  loss.backward()\n",
        "\n",
        "  optim.step()\n",
        "\n",
        "  a1.eval()\n",
        "\n",
        "  # print(a1.state_dict())\n",
        "\n",
        "print(f'{i = }, {loss =}')"
      ],
      "metadata": {
        "colab": {
          "base_uri": "https://localhost:8080/"
        },
        "id": "0A2x5sikqysd",
        "outputId": "ab89efaf-3680-4e79-8906-bcaf4719c9e2"
      },
      "execution_count": null,
      "outputs": [
        {
          "output_type": "stream",
          "name": "stdout",
          "text": [
            "i = 9999, loss =tensor(0.0335, dtype=torch.float64, grad_fn=<MeanBackward0>)\n"
          ]
        }
      ]
    },
    {
      "cell_type": "code",
      "source": [
        "# w = 4\n",
        "# b = 90\n",
        "a1.state_dict()\n",
        "# OrderedDict([('weights', tensor([0.3367])), ('bias', tensor([0.1288]))])\n",
        "# OrderedDict([('weights', tensor([4.0520])), ('bias', tensor([89.9484]))])"
      ],
      "metadata": {
        "colab": {
          "base_uri": "https://localhost:8080/"
        },
        "id": "uMc_jvzQ7k8l",
        "outputId": "381859a2-41a0-4a41-8f2b-362732e2878d"
      },
      "execution_count": null,
      "outputs": [
        {
          "output_type": "execute_result",
          "data": {
            "text/plain": [
              "OrderedDict([('weights', tensor([4.0511])), ('bias', tensor([89.9489]))])"
            ]
          },
          "metadata": {},
          "execution_count": 131
        }
      ]
    },
    {
      "cell_type": "code",
      "source": [
        "#testing\n",
        "a1.eval()\n",
        "\n",
        "with torch.inference_mode():\n",
        "  y_pred_new = a1.forward(X_test)\n",
        "  test_loss = loss_fn(y_pred_new, torch.from_numpy(y_test))\n",
        "  plot_fig (X_train, y_train, X_test, y_test, y_pred_new.numpy())\n",
        "  print(f'{test_loss =}')\n",
        "\n",
        "\n",
        "# y_pred_new"
      ],
      "metadata": {
        "colab": {
          "base_uri": "https://localhost:8080/",
          "height": 673
        },
        "id": "5C27WDOCB79j",
        "outputId": "3f764784-8913-46a8-abdc-a32dc166ca36"
      },
      "execution_count": null,
      "outputs": [
        {
          "output_type": "stream",
          "name": "stderr",
          "text": [
            "<ipython-input-104-4baaa7afdc35>:15: DeprecationWarning: __array_wrap__ must accept context and return_scalar arguments (positionally) in the future. (Deprecated NumPy 2.0)\n",
            "  y = self.weights*x + self.bias # y = mx+c\n"
          ]
        },
        {
          "output_type": "display_data",
          "data": {
            "text/plain": [
              "<Figure size 1000x700 with 1 Axes>"
            ],
            "image/png": "[encoded data removed]"
          },
          "metadata": {}
        },
        {
          "output_type": "stream",
          "name": "stdout",
          "text": [
            "test_loss =tensor(0.4090, dtype=torch.float64)\n"
          ]
        }
      ]
    },
    {
      "cell_type": "code",
      "source": [
        "y_pred_new.numpy()"
      ],
      "metadata": {
        "colab": {
          "base_uri": "https://localhost:8080/"
        },
        "id": "WEiA2PvxEqHU",
        "outputId": "d33fa8c7-7638-47ce-ee38-e3af9484b02e"
      },
      "execution_count": null,
      "outputs": [
        {
          "output_type": "execute_result",
          "data": {
            "text/plain": [
              "array([122.79998026, 123.60013218, 124.4002841 , 125.20043602,\n",
              "       126.00058794, 126.80073986, 127.60089178, 128.4010437 ,\n",
              "       129.20119562])"
            ]
          },
          "metadata": {},
          "execution_count": 84
        }
      ]
    },
    {
      "cell_type": "code",
      "source": [
        "a1"
      ],
      "metadata": {
        "colab": {
          "base_uri": "https://localhost:8080/"
        },
        "id": "QaE2afiQEvTB",
        "outputId": "5cdffe78-fb81-4175-d09c-ad92ad7da503"
      },
      "execution_count": null,
      "outputs": [
        {
          "output_type": "execute_result",
          "data": {
            "text/plain": [
              "LinearReg()"
            ]
          },
          "metadata": {},
          "execution_count": 133
        }
      ]
    },
    {
      "cell_type": "code",
      "source": [],
      "metadata": {
        "id": "1fDHmF3-PnVs"
      },
      "execution_count": null,
      "outputs": []
    },
    {
      "cell_type": "code",
      "source": [],
      "metadata": {
        "id": "sl8zf1mHVnbb"
      },
      "execution_count": null,
      "outputs": []
    },
    {
      "cell_type": "code",
      "source": [],
      "metadata": {
        "id": "s5RmYvU4Vnd1"
      },
      "execution_count": null,
      "outputs": []
    },
    {
      "cell_type": "code",
      "source": [],
      "metadata": {
        "id": "KljeT-_2Vng9"
      },
      "execution_count": null,
      "outputs": []
    },
    {
      "cell_type": "code",
      "source": [],
      "metadata": {
        "id": "UQ_hbJWhVnk1"
      },
      "execution_count": null,
      "outputs": []
    },
    {
      "cell_type": "code",
      "source": [],
      "metadata": {
        "id": "jBGLXDjFVnm6"
      },
      "execution_count": null,
      "outputs": []
    },
    {
      "cell_type": "code",
      "source": [
        "import torch\n",
        "import numpy as np\n",
        "import matplotlib.pyplot as plt\n",
        "from torch import nn\n",
        "\n",
        "class LinearRegV2(nn.Module):\n",
        "  def __init__(self):\n",
        "    super().__init__()\n",
        "    self.linear_layer = nn.Linear(in_features = 1, out_features= 1)\n",
        "\n",
        "  def forward(self, x : torch.Tensor) -> torch.Tensor:\n",
        "    return self.linear_layer(x)\n",
        "\n",
        "\n"
      ],
      "metadata": {
        "id": "SP3pPd39VnpC"
      },
      "execution_count": null,
      "outputs": []
    },
    {
      "cell_type": "code",
      "source": [
        "torch.manual_seed(42)\n",
        "model_2 = LinearRegV2()\n",
        "model_2.state_dict()"
      ],
      "metadata": {
        "colab": {
          "base_uri": "https://localhost:8080/"
        },
        "id": "qBbGri5QV2EW",
        "outputId": "0ac899f8-dedb-4c35-8eac-6f61495d263e"
      },
      "execution_count": null,
      "outputs": [
        {
          "output_type": "execute_result",
          "data": {
            "text/plain": [
              "OrderedDict([('linear_layer.weight', tensor([[0.7645]])),\n",
              "             ('linear_layer.bias', tensor([0.8300]))])"
            ]
          },
          "metadata": {},
          "execution_count": 226
        }
      ]
    },
    {
      "cell_type": "code",
      "source": [
        "X = np.arange(1, 10, 0.2)\n",
        "X"
      ],
      "metadata": {
        "colab": {
          "base_uri": "https://localhost:8080/"
        },
        "id": "4PPIZ0WyXPGE",
        "outputId": "327e3950-dc81-4241-a38a-be179195d8ac"
      },
      "execution_count": null,
      "outputs": [
        {
          "output_type": "execute_result",
          "data": {
            "text/plain": [
              "array([1. , 1.2, 1.4, 1.6, 1.8, 2. , 2.2, 2.4, 2.6, 2.8, 3. , 3.2, 3.4,\n",
              "       3.6, 3.8, 4. , 4.2, 4.4, 4.6, 4.8, 5. , 5.2, 5.4, 5.6, 5.8, 6. ,\n",
              "       6.2, 6.4, 6.6, 6.8, 7. , 7.2, 7.4, 7.6, 7.8, 8. , 8.2, 8.4, 8.6,\n",
              "       8.8, 9. , 9.2, 9.4, 9.6, 9.8])"
            ]
          },
          "metadata": {},
          "execution_count": 227
        }
      ]
    },
    {
      "cell_type": "code",
      "source": [
        "# y = ax+b\n",
        "# a = weight\n",
        "# b= bias\n",
        "\n",
        "w = 4\n",
        "b = 90\n",
        "y = w*X + b # y = 4X+90\n",
        "y"
      ],
      "metadata": {
        "colab": {
          "base_uri": "https://localhost:8080/"
        },
        "id": "wRpHYmPrnY6E",
        "outputId": "75a46103-c91c-4cdc-ab09-c0779b8b0be4"
      },
      "execution_count": null,
      "outputs": [
        {
          "output_type": "execute_result",
          "data": {
            "text/plain": [
              "array([ 94. ,  94.8,  95.6,  96.4,  97.2,  98. ,  98.8,  99.6, 100.4,\n",
              "       101.2, 102. , 102.8, 103.6, 104.4, 105.2, 106. , 106.8, 107.6,\n",
              "       108.4, 109.2, 110. , 110.8, 111.6, 112.4, 113.2, 114. , 114.8,\n",
              "       115.6, 116.4, 117.2, 118. , 118.8, 119.6, 120.4, 121.2, 122. ,\n",
              "       122.8, 123.6, 124.4, 125.2, 126. , 126.8, 127.6, 128.4, 129.2])"
            ]
          },
          "metadata": {},
          "execution_count": 228
        }
      ]
    },
    {
      "cell_type": "code",
      "source": [
        "from sklearn.model_selection import train_test_split"
      ],
      "metadata": {
        "id": "8MidltkXnbh1"
      },
      "execution_count": null,
      "outputs": []
    },
    {
      "cell_type": "code",
      "source": [
        "X_train, X_test, y_train, y_test = train_test_split (X, y,test_size = 0.2)"
      ],
      "metadata": {
        "id": "zzKkpIqxnbtM"
      },
      "execution_count": null,
      "outputs": []
    },
    {
      "cell_type": "code",
      "source": [
        "next(model_2.parameters()).device"
      ],
      "metadata": {
        "colab": {
          "base_uri": "https://localhost:8080/"
        },
        "id": "oca85KpNXRYR",
        "outputId": "13d3ff89-9d9e-403a-8d00-1c229cdfa5e8"
      },
      "execution_count": null,
      "outputs": [
        {
          "output_type": "execute_result",
          "data": {
            "text/plain": [
              "device(type='cpu')"
            ]
          },
          "metadata": {},
          "execution_count": 231
        }
      ]
    },
    {
      "cell_type": "code",
      "source": [
        "device = 'cuda' if torch.cuda.is_available() else 'cpu'\n",
        "device"
      ],
      "metadata": {
        "colab": {
          "base_uri": "https://localhost:8080/",
          "height": 35
        },
        "id": "35JTjwOVZ202",
        "outputId": "b15745fd-7788-4990-d2f0-b17cedc9c867"
      },
      "execution_count": null,
      "outputs": [
        {
          "output_type": "execute_result",
          "data": {
            "text/plain": [
              "'cuda'"
            ],
            "application/vnd.google.colaboratory.intrinsic+json": {
              "type": "string"
            }
          },
          "metadata": {},
          "execution_count": 232
        }
      ]
    },
    {
      "cell_type": "code",
      "source": [
        "model_2.to(device)"
      ],
      "metadata": {
        "colab": {
          "base_uri": "https://localhost:8080/"
        },
        "id": "V0u5E04XammZ",
        "outputId": "6f76f5a4-9ad6-49d1-97ff-9e8d52eba101"
      },
      "execution_count": null,
      "outputs": [
        {
          "output_type": "execute_result",
          "data": {
            "text/plain": [
              "LinearRegV2(\n",
              "  (linear_layer): Linear(in_features=1, out_features=1, bias=True)\n",
              ")"
            ]
          },
          "metadata": {},
          "execution_count": 233
        }
      ]
    },
    {
      "cell_type": "code",
      "source": [
        "next(model_2.parameters()).device"
      ],
      "metadata": {
        "colab": {
          "base_uri": "https://localhost:8080/"
        },
        "id": "5WZNxvhlawG9",
        "outputId": "04753c63-03b0-4b5f-e091-a6316378dcf9"
      },
      "execution_count": null,
      "outputs": [
        {
          "output_type": "execute_result",
          "data": {
            "text/plain": [
              "device(type='cuda', index=0)"
            ]
          },
          "metadata": {},
          "execution_count": 234
        }
      ]
    },
    {
      "cell_type": "code",
      "source": [
        "X_test.dtype"
      ],
      "metadata": {
        "colab": {
          "base_uri": "https://localhost:8080/"
        },
        "id": "EswqA1gPnIKa",
        "outputId": "73d07fb3-df3f-41dd-e32e-67117ee51526"
      },
      "execution_count": null,
      "outputs": [
        {
          "output_type": "execute_result",
          "data": {
            "text/plain": [
              "dtype('float64')"
            ]
          },
          "metadata": {},
          "execution_count": 235
        }
      ]
    },
    {
      "cell_type": "code",
      "source": [
        "X_train.dtype"
      ],
      "metadata": {
        "colab": {
          "base_uri": "https://localhost:8080/"
        },
        "id": "7FpMv1y-oDBP",
        "outputId": "e5ee39fc-55bd-43a3-91d4-a1288de54761"
      },
      "execution_count": null,
      "outputs": [
        {
          "output_type": "execute_result",
          "data": {
            "text/plain": [
              "dtype('float64')"
            ]
          },
          "metadata": {},
          "execution_count": 236
        }
      ]
    },
    {
      "cell_type": "code",
      "source": [
        "loss_fn = nn.L1Loss()\n",
        "loss_fn"
      ],
      "metadata": {
        "colab": {
          "base_uri": "https://localhost:8080/"
        },
        "id": "zBTkLXFFpmXk",
        "outputId": "485736de-265b-453e-8781-aad4e58f572d"
      },
      "execution_count": null,
      "outputs": [
        {
          "output_type": "execute_result",
          "data": {
            "text/plain": [
              "L1Loss()"
            ]
          },
          "metadata": {},
          "execution_count": 237
        }
      ]
    },
    {
      "cell_type": "code",
      "source": [
        "optimizer = torch.optim.SGD(params = model_2.parameters(),\n",
        "                         lr = 0.01)"
      ],
      "metadata": {
        "id": "zwqQqRR8pmaE"
      },
      "execution_count": null,
      "outputs": []
    },
    {
      "cell_type": "code",
      "source": [
        "X_train = torch.from_numpy(X_train).float().to(device)\n",
        "y_train = torch.from_numpy(y_train).float().to(device)\n",
        "X_test = torch.from_numpy(X_test).float().to(device)\n",
        "y_test = torch.from_numpy(y_test).float().to(device)"
      ],
      "metadata": {
        "id": "DW7FbM3kolm4"
      },
      "execution_count": null,
      "outputs": []
    },
    {
      "cell_type": "code",
      "source": [
        "# Reshape X_train to have 36 rows and 1 column\n",
        "X_train = X_train.reshape(-1, 1)\n",
        "# Reshape X_test to have 8 rows and 1 column\n",
        "X_test = X_test.reshape(-1, 1)"
      ],
      "metadata": {
        "id": "7UDbkCdKpX5a"
      },
      "execution_count": null,
      "outputs": []
    },
    {
      "cell_type": "code",
      "source": [
        "epoch = 100000\n",
        "\n",
        "for i in range(epoch):\n",
        "  model_2.train()\n",
        "\n",
        "  #Forward\n",
        "  y_pred = model_2(X_train)\n",
        "\n",
        "  #Loss\n",
        "  loss = loss_fn(y_pred, y_train)\n",
        "\n",
        "  optimizer.zero_grad()\n",
        "\n",
        "  loss.backward()\n",
        "\n",
        "  optimizer.step()\n",
        "\n",
        "  model_2.eval()\n",
        "  with torch.inference_mode():\n",
        "    y_pred_test = model_2(X_test)\n",
        "    test_loss = loss_fn(y_pred_test, y_test)\n",
        "  # print(f'{i = }, {loss = }, {test_loss = }')"
      ],
      "metadata": {
        "colab": {
          "base_uri": "https://localhost:8080/"
        },
        "id": "1c4UMAj6a99G",
        "outputId": "841c086e-7f02-4cb0-b311-374aff17078b"
      },
      "execution_count": null,
      "outputs": [
        {
          "output_type": "stream",
          "name": "stderr",
          "text": [
            "/usr/local/lib/python3.11/dist-packages/torch/nn/modules/loss.py:128: UserWarning: Using a target size (torch.Size([36])) that is different to the input size (torch.Size([36, 1])). This will likely lead to incorrect results due to broadcasting. Please ensure they have the same size.\n",
            "  return F.l1_loss(input, target, reduction=self.reduction)\n",
            "/usr/local/lib/python3.11/dist-packages/torch/nn/modules/loss.py:128: UserWarning: Using a target size (torch.Size([9])) that is different to the input size (torch.Size([9, 1])). This will likely lead to incorrect results due to broadcasting. Please ensure they have the same size.\n",
            "  return F.l1_loss(input, target, reduction=self.reduction)\n"
          ]
        }
      ]
    },
    {
      "cell_type": "code",
      "source": [
        "list(model_2.parameters())"
      ],
      "metadata": {
        "colab": {
          "base_uri": "https://localhost:8080/"
        },
        "id": "R-yOWhU9mP24",
        "outputId": "258df1be-de76-42fb-bf3f-5654e1a29e0d"
      },
      "execution_count": null,
      "outputs": [
        {
          "output_type": "execute_result",
          "data": {
            "text/plain": [
              "[Parameter containing:\n",
              " tensor([[0.0909]], device='cuda:0', requires_grad=True),\n",
              " Parameter containing:\n",
              " tensor([111.5092], device='cuda:0', requires_grad=True)]"
            ]
          },
          "metadata": {},
          "execution_count": 260
        }
      ]
    },
    {
      "cell_type": "code",
      "source": [
        "test_loss"
      ],
      "metadata": {
        "colab": {
          "base_uri": "https://localhost:8080/"
        },
        "id": "6rKte-AXq03y",
        "outputId": "42a97716-5f1b-4b29-b932-57d1f12f1063"
      },
      "execution_count": null,
      "outputs": [
        {
          "output_type": "execute_result",
          "data": {
            "text/plain": [
              "tensor(8.1376, device='cuda:0')"
            ]
          },
          "metadata": {},
          "execution_count": 261
        }
      ]
    },
    {
      "cell_type": "code",
      "source": [
        "from pathlib import Path\n",
        "MODEL_PATH = Path('models')\n",
        "MODEL_PATH.mkdir(parents=True, exist_ok=True)"
      ],
      "metadata": {
        "id": "FkU2LPJmrd-6"
      },
      "execution_count": null,
      "outputs": []
    },
    {
      "cell_type": "code",
      "source": [
        "MODEL_NAME = 'linear_regression.pth'\n",
        "MODEL_SAVE_PATH = MODEL_PATH / MODEL_NAME\n",
        "MODEL_SAVE_PATH"
      ],
      "metadata": {
        "colab": {
          "base_uri": "https://localhost:8080/"
        },
        "id": "eNOMfItDsXgu",
        "outputId": "6d2e7562-2723-439b-b0e5-14981da311f6"
      },
      "execution_count": null,
      "outputs": [
        {
          "output_type": "execute_result",
          "data": {
            "text/plain": [
              "PosixPath('models/linear_regression.pth')"
            ]
          },
          "metadata": {},
          "execution_count": 262
        }
      ]
    },
    {
      "cell_type": "code",
      "source": [
        "torch.save(obj = model_2.state_dict(), f = MODEL_SAVE_PATH)"
      ],
      "metadata": {
        "id": "Kmpnhm5pswjO"
      },
      "execution_count": null,
      "outputs": []
    },
    {
      "cell_type": "code",
      "source": [],
      "metadata": {
        "id": "PVjiE-yctPzt"
      },
      "execution_count": null,
      "outputs": []
    }
  ]
}